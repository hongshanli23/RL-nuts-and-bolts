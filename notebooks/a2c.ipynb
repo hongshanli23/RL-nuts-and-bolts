{
 "cells": [
  {
   "cell_type": "markdown",
   "metadata": {},
   "source": [
    "## Overview of A2C\n",
    "\n",
    "## Problems with on-policy gradients methods\n",
    "\n",
    "- high variance in training (compared to what?) \n",
    "    * compared to off-policy methods\n",
    "    \n",
    "- sample inefficiency (compared to what? )\n",
    "    * compared to off-policy methods\n",
    "    * a trajectory is sampled / used / then throw away\n",
    "    \n",
    "[Why policy gradient has high variance](https://www.quora.com/Why-does-the-policy-gradient-method-have-a-high-variance)\n",
    "\n",
    "\n",
    "## Problems with off-policy methods\n",
    "- bad samples are hoarded and resued\n",
    "    * on-policy policy gradient methods are leaner (minimalist life-style)\n",
    "    \n",
    "- old samples come from old policy\n",
    "    * to train the current policy, we need importance sampling to correct the distribution\n",
    "    * not easy to do\n",
    "    * so many off-policy methods don't do it\n",
    "\n",
    "We can forget about policy and learn a q-function, but then how do we handle \n",
    "problems with continuous action space?\n",
    "\n",
    "Conclusion: pick your poison. \n",
    "\n",
    "\n",
    "## A2C\n",
    "How A2C solve those common problems of on-policy policy gradient methods\n",
    "\n",
    "- High variance of policy gradient estimate\n",
    "    * parallel env to sample many trajectories \n",
    "- Sample inefficiency\n",
    "    * getting more samples\n",
    "\n",
    "## Additional benefits\n",
    "\n",
    "- More exploration of env\n",
    "- Easy to parallel\n",
    "\n",
    "## How to quantify stability? \n",
    "\n",
    "- Plot gradient, log probability of actions, advantages? \n",
    "    * really depends on the problem. For cartpole, it only takes a few steps to go from a good state to a bad state\n",
    "    * so just become log probabiliy varies a lot does not necessary mean the training is not stable\n",
    "    * For a finite episode problem like CartPole, the average reward for each epsisode seems to be a good measure of stability \n",
    "     \n",
    "But it is not that straightforward to compute moving average of episode rewards, because we have parallel envs: env 1 might end vhile env 2 is still running. If we have only 1 enviroment, then this programming task is reduced\n",
    "to keep tracking of moving average (which well-exercised leetcoder  should know how to do it in O(1) time and O(1) space)"
   ]
  },
  {
   "cell_type": "markdown",
   "metadata": {},
   "source": [
    "## Stability\n",
    "\n",
    "1. Why do we want stability?\n",
    "* samples are generated from the policy\n",
    "* bad policy -> bad samples -> bad policy\n",
    "\n",
    "\n",
    "Factors affecting training stability\n",
    "* number of parallel environments\n",
    "* length of a trajectory\n",
    "* gradient \n"
   ]
  },
  {
   "cell_type": "markdown",
   "metadata": {},
   "source": [
    "## Some debug work"
   ]
  },
  {
   "cell_type": "code",
   "execution_count": 1,
   "metadata": {},
   "outputs": [
    {
     "name": "stdout",
     "output_type": "stream",
     "text": [
      "rm: cannot remove 'ckpt/debug/*': No such file or directory\n",
      "rm: cannot remove 'log/debug/*': No such file or directory\n"
     ]
    }
   ],
   "source": [
    "!rm ckpt/debug/*\n",
    "!rm log/debug/*"
   ]
  },
  {
   "cell_type": "code",
   "execution_count": 76,
   "metadata": {},
   "outputs": [],
   "source": [
    "!python test.py"
   ]
  },
  {
   "cell_type": "code",
   "execution_count": null,
   "metadata": {},
   "outputs": [],
   "source": [
    "!tensorboard --logdir log/debug --bind_all"
   ]
  },
  {
   "cell_type": "markdown",
   "metadata": {},
   "source": [
    "## Experiments: impact of number of parallel envs to stability\n",
    "Intuition is more parallel envs increases stability"
   ]
  },
  {
   "cell_type": "code",
   "execution_count": 1,
   "metadata": {},
   "outputs": [],
   "source": [
    "from rlalgos.A2C.a2c import A2C\n",
    "\n"
   ]
  },
  {
   "cell_type": "code",
   "execution_count": 12,
   "metadata": {},
   "outputs": [],
   "source": [
    "from cartpole import a2c\n",
    "\n",
    "h = {\n",
    "    \"n_iters\": 1000,\n",
    "    #\"nenvs\": 16, # to be changed\n",
    "    \"ckpt_interval\": 100,\n",
    "    \"nsteps\" : 30, # length of trajectory\n",
    "    \"entropy_coef\" : 0.01, #1e-4, \n",
    "    \"learning_rate\": 1e-4,\n",
    "    \"p_coef\": 1.0,\n",
    "    \"v_coef\":1.0,\n",
    "    \"gamma\": 0.99,\n",
    "    \"device\": \"cpu\",\n",
    "    \"clip_grad_norm\": False,\n",
    "    \"evaluate_critic\": False\n",
    "    #\"ckpt_dir\": 'ckpt/debug', # to be changed \n",
    "    #\"log_dir\": 'log/debug' # to be changed\n",
    "}\n",
    "\n",
    "for nenvs in range(10, 11):\n",
    "    ckpt_dir = f'/home/ubuntu/tmp/a2c/ckpt/nenv-{nenvs}'\n",
    "    log_dir = f'/home/ubuntu/tmp/logs/nenv-{nenvs}'\n",
    "    h[\"nenvs\"] = nenvs\n",
    "    h[\"ckpt_dir\"] = ckpt_dir\n",
    "    h[\"log_dir\"] = log_dir\n",
    "    a2c(h)"
   ]
  },
  {
   "cell_type": "code",
   "execution_count": 2,
   "metadata": {},
   "outputs": [],
   "source": [
    "def std(data, key):\n",
    "    \"\"\"compute std of data[key]\"\"\"\n",
    "    arr = [x[1] for x in data[key]]\n",
    "    return np.std(arr)"
   ]
  },
  {
   "cell_type": "code",
   "execution_count": 10,
   "metadata": {},
   "outputs": [
    {
     "name": "stdout",
     "output_type": "stream",
     "text": [
      "events.out.tfevents.1622263668.ip-172-31-33-148.18644.0\n",
      "events.out.tfevents.1622263699.ip-172-31-33-148.18644.1\n",
      "events.out.tfevents.1622263725.ip-172-31-33-148.18644.2\n",
      "events.out.tfevents.1622263729.ip-172-31-33-148.19365.0\n",
      "events.out.tfevents.1622264302.ip-172-31-33-148.21236.0\n",
      "events.out.tfevents.1622264792.ip-172-31-33-148.23083.0\n",
      "events.out.tfevents.1622265261.ip-172-31-33-148.23867.0\n",
      "events.out.tfevents.1622266987.ip-172-31-33-148.23867.2\n",
      "experiment-data.pkl\n"
     ]
    }
   ],
   "source": [
    "!ls /home/ubuntu/tmp/logs/nenv-10"
   ]
  },
  {
   "cell_type": "code",
   "execution_count": 13,
   "metadata": {},
   "outputs": [
    {
     "name": "stdout",
     "output_type": "stream",
     "text": [
      "nenv: 10, std of moving average reward : 44.241096958583334\n"
     ]
    }
   ],
   "source": [
    "# std of moving average for each experiment\n",
    "import numpy as np\n",
    "from utils import Logger\n",
    "\n",
    "for nenv in range(10, 11):\n",
    "    log_dir = f'/home/ubuntu/tmp/logs/nenv-{nenv}'\n",
    "    logger = Logger(log_dir)\n",
    "    data = logger.load()\n",
    "    res = std(data, 'ma_rew')\n",
    "    print(f\"nenv: {nenv}, std of moving average reward : {res}\")"
   ]
  },
  {
   "cell_type": "code",
   "execution_count": 101,
   "metadata": {},
   "outputs": [
    {
     "name": "stdout",
     "output_type": "stream",
     "text": [
      "nenv: 10, std of log probability of actions : 0.03559497094184473\n",
      "nenv: 11, std of log probability of actions : 0.03752836136908005\n",
      "nenv: 12, std of log probability of actions : 0.03567263716485237\n",
      "nenv: 13, std of log probability of actions : 0.03397460746003187\n",
      "nenv: 14, std of log probability of actions : 0.03964350383657634\n",
      "nenv: 15, std of log probability of actions : 0.03605159749922419\n"
     ]
    }
   ],
   "source": [
    "# std of log probability of actions\n",
    "\n",
    "for nenv in range(10, 16):\n",
    "    log_dir = f'log/nenv-{nenv}'\n",
    "    logger = Logger(log_dir)\n",
    "    data = logger.load()\n",
    "    res = std(data, 'log_pi_a')\n",
    "    print(f\"nenv: {nenv}, std of log probability of actions : {res}\")"
   ]
  },
  {
   "cell_type": "code",
   "execution_count": 94,
   "metadata": {},
   "outputs": [
    {
     "name": "stdout",
     "output_type": "stream",
     "text": [
      "nenv: 10, std of loss: 126.65723240246216\n",
      "nenv: 11, std of loss: 126.60126408481901\n",
      "nenv: 12, std of loss: 123.85701479739846\n",
      "nenv: 13, std of loss: 126.65860444875733\n",
      "nenv: 14, std of loss: 117.70909187803315\n",
      "nenv: 15, std of loss: 125.34906857995779\n"
     ]
    }
   ],
   "source": [
    "# std of loss\n",
    "\n",
    "for nenv in range(10, 16):\n",
    "    log_dir = f'log/nenv-{nenv}'\n",
    "    logger = Logger(log_dir)\n",
    "    data = logger.load()\n",
    "    res = std(data, 'loss')\n",
    "    print(f\"nenv: {nenv}, std of loss: {res}\")"
   ]
  },
  {
   "cell_type": "markdown",
   "metadata": {},
   "source": [
    "## N && B: a few techniques to make training is stable"
   ]
  },
  {
   "cell_type": "markdown",
   "metadata": {},
   "source": [
    "## Clip gradients or not"
   ]
  },
  {
   "cell_type": "code",
   "execution_count": 102,
   "metadata": {},
   "outputs": [],
   "source": [
    "\n",
    "\n",
    "from cartpole import a2c\n",
    "\n",
    "h = {\n",
    "    \"n_iters\": 1000,\n",
    "    \"nenvs\": 16, # to be changed\n",
    "    \"ckpt_interval\": 10,\n",
    "    \"nsteps\" : 30, # length of trajectory\n",
    "    \"entropy_coef\" : 0.01, #1e-4, \n",
    "    \"learning_rate\": 1e-4,\n",
    "    \"p_coef\": 1.0,\n",
    "    \"v_coef\":1.0,\n",
    "    \"gamma\": 0.99,\n",
    "    \"device\": \"cpu\",\n",
    "    #\"clip_grad_norm\": False,\n",
    "    #\"ckpt_dir\": 'ckpt/debug', # to be changed \n",
    "    #\"log_dir\": 'log/debug' # to be changed\n",
    "}\n",
    "\n",
    "for opt in [True, False]:\n",
    "    h['clip_grad_norm'] = opt\n",
    "    h['ckpt_dir'] = f'ckpt/clip-grad-{opt}'\n",
    "    h['log_dir'] = f'log/clip-grad-{opt}'\n",
    "    #a2c(h)"
   ]
  },
  {
   "cell_type": "markdown",
   "metadata": {},
   "source": [
    "### Std of moving average reward "
   ]
  },
  {
   "cell_type": "code",
   "execution_count": 108,
   "metadata": {},
   "outputs": [
    {
     "name": "stdout",
     "output_type": "stream",
     "text": [
      "clip gradient: True, std of ma reward: 31.566684395435963\n",
      "clip gradient: False, std of ma reward: 46.7627088209243\n"
     ]
    }
   ],
   "source": [
    "for opt in [True, False]:\n",
    "    log_dir = f'log/clip-grad-{opt}'\n",
    "    logger = Logger(log_dir)\n",
    "    data = logger.load()\n",
    "    res = std(data, 'ma_rew')\n",
    "    print(f\"clip gradient: {opt}, std of ma reward: {res}\")"
   ]
  },
  {
   "cell_type": "markdown",
   "metadata": {},
   "source": [
    "### Std of loss"
   ]
  },
  {
   "cell_type": "code",
   "execution_count": 109,
   "metadata": {},
   "outputs": [
    {
     "name": "stdout",
     "output_type": "stream",
     "text": [
      "clip gradient: True, std of loss: 87.75686626245346\n",
      "clip gradient: False, std of loss: 128.1899696474328\n"
     ]
    }
   ],
   "source": [
    "for opt in [True, False]:\n",
    "    log_dir = f'log/clip-grad-{opt}'\n",
    "    logger = Logger(log_dir)\n",
    "    data = logger.load()\n",
    "    res = std(data, 'loss')\n",
    "    print(f\"clip gradient: {opt}, std of loss: {res}\")"
   ]
  },
  {
   "cell_type": "markdown",
   "metadata": {},
   "source": [
    "## Length of each trajectory\n",
    "One trajectory (from parallel env) is used for one step policy and value iteration. Intuitively, longer trajectory helps the agent to learn the long term benefit of its action. \n",
    "\n",
    "* Longer trajectory makes training more stable\n",
    "* Longer trajectory makes the agent learn faster\n",
    "* Effect of a bad action can only surface after a few steps. "
   ]
  },
  {
   "cell_type": "code",
   "execution_count": 111,
   "metadata": {},
   "outputs": [],
   "source": [
    "h = {\n",
    "    \"n_iters\": 1000,\n",
    "    \"nenvs\": 16, # to be changed\n",
    "    \"ckpt_interval\": 10,\n",
    "    #\"nsteps\" : 30, # length of trajectory\n",
    "    \"entropy_coef\" : 0.01, #1e-4, \n",
    "    \"learning_rate\": 1e-4,\n",
    "    \"p_coef\": 1.0,\n",
    "    \"v_coef\":1.0,\n",
    "    \"gamma\": 0.99,\n",
    "    \"device\": \"cpu\",\n",
    "    \"clip_grad_norm\": True,\n",
    "    #\"ckpt_dir\": 'ckpt/debug', # to be changed \n",
    "    #\"log_dir\": 'log/debug' # to be changed\n",
    "}\n",
    "\n",
    "for nsteps in range(5, 31):\n",
    "    h[\"nsteps\"] = nsteps\n",
    "    h['ckpt_dir'] = f'ckpt/nsteps-{nsteps}'\n",
    "    h['log_dir'] = f'log/nsteps-{nsteps}'\n",
    "    #a2c(h)"
   ]
  },
  {
   "cell_type": "code",
   "execution_count": 120,
   "metadata": {},
   "outputs": [
    {
     "name": "stdout",
     "output_type": "stream",
     "text": [
      "trajectory length: 5 | std of ma reward: 6.206312381559107\n",
      "trajectory length: 6 | std of ma reward: 6.7941367262294765\n",
      "trajectory length: 7 | std of ma reward: 11.88877426088386\n",
      "trajectory length: 8 | std of ma reward: 12.65766606890771\n",
      "trajectory length: 9 | std of ma reward: 12.049337735996671\n",
      "trajectory length: 10 | std of ma reward: 14.811946064503886\n",
      "trajectory length: 11 | std of ma reward: 16.305581726869427\n",
      "trajectory length: 12 | std of ma reward: 20.12604333236117\n",
      "trajectory length: 13 | std of ma reward: 15.68693050207474\n",
      "trajectory length: 14 | std of ma reward: 22.111985664898228\n",
      "trajectory length: 15 | std of ma reward: 19.667176656598706\n",
      "trajectory length: 16 | std of ma reward: 22.924070967874297\n",
      "trajectory length: 17 | std of ma reward: 24.94240039339594\n",
      "trajectory length: 18 | std of ma reward: 25.832477444081537\n",
      "trajectory length: 19 | std of ma reward: 27.05817743367623\n",
      "trajectory length: 20 | std of ma reward: 26.653663867526497\n",
      "trajectory length: 21 | std of ma reward: 24.835131565403454\n",
      "trajectory length: 22 | std of ma reward: 27.88279425568999\n",
      "trajectory length: 23 | std of ma reward: 28.367172789208418\n",
      "trajectory length: 24 | std of ma reward: 24.42656539757199\n",
      "trajectory length: 25 | std of ma reward: 30.38063516748396\n",
      "trajectory length: 26 | std of ma reward: 31.277589413527796\n",
      "trajectory length: 27 | std of ma reward: 31.685631787430765\n",
      "trajectory length: 28 | std of ma reward: 27.618030052540696\n",
      "trajectory length: 29 | std of ma reward: 28.184460387056014\n",
      "trajectory length: 30 | std of ma reward: 28.69954193210446\n"
     ]
    }
   ],
   "source": [
    "# std of moving average reward\n",
    "\n",
    "for nsteps in range(5, 31):\n",
    "    log_dir = f'log/nsteps-{nsteps}'\n",
    "    logger = Logger(log_dir)\n",
    "    data = logger.load()\n",
    "    res = std(data, 'ma_rew')\n",
    "    print(f'trajectory length: {nsteps} | std of ma reward: {res}')"
   ]
  },
  {
   "cell_type": "markdown",
   "metadata": {},
   "source": [
    "# Oops! Pitfall\n",
    "\n",
    "I guess I was implicitly thinking that higher reward and stability are positively correlated, because they are both desirable. \n",
    "\n",
    "Randomness\n",
    "* randomness of the env\n",
    "* randomess of action (sampled from prob)\n",
    "\n",
    "This means\n",
    "* Longer trajectory has \"more randomness\"\n",
    "* => longer trajectory incurs a higher variance\n"
   ]
  },
  {
   "cell_type": "code",
   "execution_count": 115,
   "metadata": {},
   "outputs": [
    {
     "name": "stdout",
     "output_type": "stream",
     "text": [
      "trajectory length: 5 std of loss: 15.95312442503258\n",
      "trajectory length: 6 std of loss: 27.050928839895633\n",
      "trajectory length: 7 std of loss: 25.569796520339374\n",
      "trajectory length: 8 std of loss: 23.259475564346605\n",
      "trajectory length: 9 std of loss: 27.114428326483672\n",
      "trajectory length: 10 std of loss: 30.20247197956925\n",
      "trajectory length: 11 std of loss: 38.41508256160848\n",
      "trajectory length: 12 std of loss: 49.422973096028386\n",
      "trajectory length: 13 std of loss: 42.26107678619629\n",
      "trajectory length: 14 std of loss: 57.51039843141428\n",
      "trajectory length: 15 std of loss: 51.04221888132379\n",
      "trajectory length: 16 std of loss: 62.58077858350786\n",
      "trajectory length: 17 std of loss: 66.96665101645331\n",
      "trajectory length: 18 std of loss: 66.97736167957794\n",
      "trajectory length: 19 std of loss: 76.10777375961906\n",
      "trajectory length: 20 std of loss: 75.51169820482042\n",
      "trajectory length: 21 std of loss: 67.49711880268305\n",
      "trajectory length: 22 std of loss: 75.16493681600943\n",
      "trajectory length: 23 std of loss: 74.21857834956097\n",
      "trajectory length: 24 std of loss: 70.48070160844658\n",
      "trajectory length: 25 std of loss: 88.83350108945598\n",
      "trajectory length: 26 std of loss: 89.1579255679235\n",
      "trajectory length: 27 std of loss: 82.21110429785736\n",
      "trajectory length: 28 std of loss: 78.36282909169032\n",
      "trajectory length: 29 std of loss: 88.01356780466357\n",
      "trajectory length: 30 std of loss: 82.05633115208828\n"
     ]
    }
   ],
   "source": [
    "# std of loss\n",
    "\n",
    "for nsteps in range(5, 31):\n",
    "    log_dir = f'log/nsteps-{nsteps}'\n",
    "    logger = Logger(log_dir)\n",
    "    data = logger.load()\n",
    "    res = std(data, 'loss')\n",
    "    print(f'trajectory length: {nsteps}', f'std of loss: {res}')"
   ]
  },
  {
   "cell_type": "code",
   "execution_count": 121,
   "metadata": {},
   "outputs": [
    {
     "name": "stdout",
     "output_type": "stream",
     "text": [
      "trajectory length: 5 std of adv: 1.2608268788123396\n",
      "trajectory length: 6 std of adv: 1.5251485703363248\n",
      "trajectory length: 7 std of adv: 1.4852788971378308\n",
      "trajectory length: 8 std of adv: 1.5448067042383975\n",
      "trajectory length: 9 std of adv: 1.8090801431709604\n",
      "trajectory length: 10 std of adv: 1.7357480356143165\n",
      "trajectory length: 11 std of adv: 2.0372059369785824\n",
      "trajectory length: 12 std of adv: 2.1565931216087257\n",
      "trajectory length: 13 std of adv: 2.2502100934415523\n",
      "trajectory length: 14 std of adv: 2.2822920096137005\n",
      "trajectory length: 15 std of adv: 2.357039214276123\n",
      "trajectory length: 16 std of adv: 2.5615997374533688\n",
      "trajectory length: 17 std of adv: 2.5606363888938106\n",
      "trajectory length: 18 std of adv: 2.6407756721965017\n",
      "trajectory length: 19 std of adv: 2.8086783766190107\n",
      "trajectory length: 20 std of adv: 2.871514971747077\n",
      "trajectory length: 21 std of adv: 2.795736732860649\n",
      "trajectory length: 22 std of adv: 2.8621769379317827\n",
      "trajectory length: 23 std of adv: 2.8838695771115392\n",
      "trajectory length: 24 std of adv: 3.080788221664063\n",
      "trajectory length: 25 std of adv: 3.0134984435572294\n",
      "trajectory length: 26 std of adv: 3.0386913909370876\n",
      "trajectory length: 27 std of adv: 3.153793838496613\n",
      "trajectory length: 28 std of adv: 3.094768528985399\n",
      "trajectory length: 29 std of adv: 3.2609970622816493\n",
      "trajectory length: 30 std of adv: 3.276291629418475\n"
     ]
    }
   ],
   "source": [
    "# std of adv\n",
    "\n",
    "for nsteps in range(5, 31):\n",
    "    log_dir = f'log/nsteps-{nsteps}'\n",
    "    logger = Logger(log_dir)\n",
    "    data = logger.load()\n",
    "    res = std(data, 'adv')\n",
    "    print(f'trajectory length: {nsteps}', f'std of adv: {res}')"
   ]
  },
  {
   "cell_type": "code",
   "execution_count": 117,
   "metadata": {},
   "outputs": [
    {
     "name": "stdout",
     "output_type": "stream",
     "text": [
      "trajectory length: 5, last ma reward 32.723724365234375\n",
      "trajectory length: 6, last ma reward 30.767850875854492\n",
      "trajectory length: 7, last ma reward 70.91400146484375\n",
      "trajectory length: 8, last ma reward 67.55679321289062\n",
      "trajectory length: 9, last ma reward 76.67071533203125\n",
      "trajectory length: 10, last ma reward 88.3529281616211\n",
      "trajectory length: 11, last ma reward 56.044403076171875\n",
      "trajectory length: 12, last ma reward 85.94941711425781\n",
      "trajectory length: 13, last ma reward 80.94585418701172\n",
      "trajectory length: 14, last ma reward 96.23628234863281\n",
      "trajectory length: 15, last ma reward 84.31098175048828\n",
      "trajectory length: 16, last ma reward 115.69566345214844\n",
      "trajectory length: 17, last ma reward 115.28688049316406\n",
      "trajectory length: 18, last ma reward 122.9968490600586\n",
      "trajectory length: 19, last ma reward 104.73279571533203\n",
      "trajectory length: 20, last ma reward 104.3149642944336\n",
      "trajectory length: 21, last ma reward 123.93647766113281\n",
      "trajectory length: 22, last ma reward 124.37062072753906\n",
      "trajectory length: 23, last ma reward 109.558837890625\n",
      "trajectory length: 24, last ma reward 111.16752624511719\n",
      "trajectory length: 25, last ma reward 120.23048400878906\n",
      "trajectory length: 26, last ma reward 117.12339782714844\n",
      "trajectory length: 27, last ma reward 113.77822875976562\n",
      "trajectory length: 28, last ma reward 92.52961730957031\n",
      "trajectory length: 29, last ma reward 115.61091613769531\n",
      "trajectory length: 30, last ma reward 86.54060363769531\n"
     ]
    }
   ],
   "source": [
    "# moving average of the reward\n",
    "# at the end of the training\n",
    "\n",
    "for nsteps in range(5, 31):\n",
    "    log_dir = f'log/nsteps-{nsteps}'\n",
    "    logger = Logger(log_dir)\n",
    "    data = logger.load()\n",
    "    res = data['ma_rew'][-1][1]\n",
    "    print(f\"trajectory length: {nsteps}, last ma reward {res}\")"
   ]
  },
  {
   "cell_type": "markdown",
   "metadata": {},
   "source": [
    "Our intuition seems to be right here. "
   ]
  },
  {
   "cell_type": "markdown",
   "metadata": {},
   "source": [
    "## clip output of critic\n",
    "If the output of critic has too much variance, then it defies the purpose of using a critic for actor-critic flavored algorithm."
   ]
  },
  {
   "cell_type": "markdown",
   "metadata": {},
   "source": [
    "## N && B: encourage exploration\n",
    "\n",
    "* policy gradient methods are already exploratory, actions are sampled from action distribution rather than greedy\n",
    "* want to avoid agent converge (over-confident) in the early stage\n",
    "* want to make entropy of action distribution higher in the early stage \n",
    "* different random seed for each env\n",
    "* start the env with some random actions\n",
    "\n",
    "\n",
    "### Entropy\n",
    "Entropy is baked into the loss\n",
    "\n",
    "Let $\\tau$ be a sample trajectory, $\\alpha$ entropy coeff (temperature)\n",
    "\n",
    "$\\sum $ means $\\sum_{s_i, a_i \\in \\tau}$\n",
    "\n",
    "$$\n",
    "Loss(\\tau) = - \\frac{1}{N} \\sum\\log \\pi(a_i|s_i) A(a_i, s_i)  + \\frac{1}{N}\\sum|Q(a_i, s_i) - V(s_i) |^2 + \\frac{1}{N}\\alpha \\sum \\entropy(\\pi(\\cdot | s_i))\n",
    "$$\n",
    "\n",
    "Better exploration correlated with better rewards"
   ]
  },
  {
   "cell_type": "code",
   "execution_count": 129,
   "metadata": {},
   "outputs": [],
   "source": [
    "\n",
    "h = {\n",
    "    \"n_iters\": 1000,\n",
    "    \"nenvs\": 16, # to be changed\n",
    "    \"ckpt_interval\": 10,\n",
    "    \"nsteps\" : 30, # length of trajectory\n",
    "    #\"entropy_coef\" : 0, \n",
    "    \"learning_rate\": 1e-4,\n",
    "    \"p_coef\": 1.0,\n",
    "    \"v_coef\":1.0,\n",
    "    \"gamma\": 0.99,\n",
    "    \"device\": \"cpu\",\n",
    "    \"clip_grad_norm\": True,\n",
    "    #\"ckpt_dir\": 'ckpt/debug', # to be changed \n",
    "    #\"log_dir\": 'log/debug' # to be changed\n",
    "}\n",
    "\n",
    "\n",
    "for entropy_coef in [0, 0.01, 0.1]:\n",
    "    ckpt_dir =f'ckpt/entropy-coef-{entropy_coef}'\n",
    "    log_dir = f'log/entropy-coef-{entropy_coef}'\n",
    "    h['entropy_coef'] = entropy_coef\n",
    "    h['ckpt_dir'] = ckpt_dir\n",
    "    h['log_dir'] = log_dir\n",
    "    a2c(h)"
   ]
  },
  {
   "cell_type": "code",
   "execution_count": null,
   "metadata": {},
   "outputs": [],
   "source": []
  },
  {
   "cell_type": "code",
   "execution_count": 135,
   "metadata": {},
   "outputs": [
    {
     "name": "stdout",
     "output_type": "stream",
     "text": [
      "entropy coef: 0, average reward 72.5942310142517\n",
      "entropy coef: 0.1, average reward 64.95612062072755\n",
      "entropy coef: 0.01, average reward 71.91440085220337\n"
     ]
    }
   ],
   "source": [
    "# compare the rewards of experiements with\n",
    "# different entropy coefficient\n",
    "for ec in [0, 0.1, 0.01]:\n",
    "    log_dir = f'log/entropy-coef-{ec}'\n",
    "    data = Logger(log_dir).load()\n",
    "    avg_reward = [x[1] for x in data['ma_rew']]\n",
    "    print(f\"entropy coef: {ec}, average reward {sum(avg_reward) / len(avg_reward)}\")"
   ]
  },
  {
   "cell_type": "code",
   "execution_count": 144,
   "metadata": {},
   "outputs": [
    {
     "name": "stdout",
     "output_type": "stream",
     "text": [
      "entropy coef: 0, average reward 125.38384674072266\n",
      "entropy coef: 0.1, average reward 113.5899333190918\n",
      "entropy coef: 0.01, average reward 123.38497283935547\n"
     ]
    }
   ],
   "source": [
    "# average reward at latter stage of training\n",
    "for ec in [0, 0.1, 0.01]:\n",
    "    log_dir = f'log/entropy-coef-{ec}'\n",
    "    data = Logger(log_dir).load()\n",
    "    avg_reward = [x[1] for x in data['ma_rew']][-100:]\n",
    "    print(f\"entropy coef: {ec}, average reward {sum(avg_reward) / len(avg_reward)}\")"
   ]
  },
  {
   "cell_type": "code",
   "execution_count": 140,
   "metadata": {},
   "outputs": [
    {
     "data": {
      "text/plain": [
       "<algo.Agent at 0x7f0c3446e2b0>"
      ]
     },
     "execution_count": 140,
     "metadata": {},
     "output_type": "execute_result"
    }
   ],
   "source": [
    "# linearly decay entropy coefficient\n",
    "\n",
    "\n",
    "h = {\n",
    "    \"n_iters\": 1000,\n",
    "    \"nenvs\": 16, # to be changed\n",
    "    \"ckpt_interval\": 10,\n",
    "    \"nsteps\" : 30, # length of trajectory\n",
    "    \"entropy_coef\" : 0.1, \n",
    "    \"learning_rate\": 1e-4,\n",
    "    \"p_coef\": 1.0,\n",
    "    \"v_coef\":1.0,\n",
    "    \"gamma\": 0.99,\n",
    "    \"device\": \"cpu\",\n",
    "    \"clip_grad_norm\": True,\n",
    "    #\"ckpt_dir\": 'ckpt/debug', # to be changed \n",
    "    #\"log_dir\": 'log/debug' # to be changed\n",
    "}\n",
    "\n",
    "def entropy_decay_fn(curr_coef, n_iter):\n",
    "    return -(0.1/1000.0) * n_iter + 0.1\n",
    "\n",
    "ckpt_dir = 'ckpt/entropy-decay'\n",
    "log_dir = 'ckpt/entropy-decay'\n",
    "h['ckpt_dir'] = ckpt_dir \n",
    "h['log_dir'] = log_dir\n",
    "\n",
    "decay_fn = {\"entropy_coef\": entropy_decay_fn}\n",
    "\n",
    "a2c(h, decay_fn)"
   ]
  },
  {
   "cell_type": "code",
   "execution_count": 143,
   "metadata": {},
   "outputs": [
    {
     "name": "stdout",
     "output_type": "stream",
     "text": [
      "with entropy decay, average reward 63.838873136520384\n"
     ]
    }
   ],
   "source": [
    "og_dir = 'ckpt/entropy-decay'\n",
    "data = Logger(log_dir).load()\n",
    "avg_reward = [x[1] for x in data['ma_rew']]\n",
    "print(f\"with entropy decay, average reward {sum(avg_reward) / len(avg_reward)}\")"
   ]
  },
  {
   "cell_type": "code",
   "execution_count": 145,
   "metadata": {},
   "outputs": [
    {
     "name": "stdout",
     "output_type": "stream",
     "text": [
      "with entropy decay, average reward 123.38497283935547\n"
     ]
    }
   ],
   "source": [
    "# later stage of training\n",
    "og_dir = 'ckpt/entropy-decay'\n",
    "data = Logger(log_dir).load()\n",
    "avg_reward = [x[1] for x in data['ma_rew']][-100:]\n",
    "print(f\"with entropy decay, average reward {sum(avg_reward) / len(avg_reward)}\")"
   ]
  },
  {
   "cell_type": "markdown",
   "metadata": {},
   "source": [
    "## N && B: check if critic is learning anything by viewing the estimate of initial state\n",
    "\n",
    "For Cartpole, the initial state should have have high value (for a trained agent), so we can evalutate critic by \n"
   ]
  },
  {
   "cell_type": "code",
   "execution_count": 166,
   "metadata": {},
   "outputs": [
    {
     "data": {
      "text/plain": [
       "<algo.Agent at 0x7f0c34635780>"
      ]
     },
     "execution_count": 166,
     "metadata": {},
     "output_type": "execute_result"
    }
   ],
   "source": [
    "h = {\n",
    "    \"n_iters\": 1000,\n",
    "    \"nenvs\": 16, # to be changed\n",
    "    \"ckpt_interval\": 100,\n",
    "    \"nsteps\" : 30, # length of trajectory\n",
    "    \"entropy_coef\" : 0., \n",
    "    \"learning_rate\": 1e-4,\n",
    "    \"p_coef\": 1.0,\n",
    "    \"v_coef\":1.0,\n",
    "    \"gamma\": 0.99,\n",
    "    \"device\": \"cpu\",\n",
    "    \"clip_grad_norm\": True,\n",
    "    \"evalute_critic\": True\n",
    "    #\"ckpt_dir\": 'ckpt/debug', # to be changed \n",
    "    #\"log_dir\": 'log/debug' # to be changed\n",
    "}\n",
    "\n",
    "ckpt_dir = 'ckpt/evaluate-critic'\n",
    "log_dir = 'log/evaluate-critic'\n",
    "h['ckpt_dir'] = ckpt_dir \n",
    "h['log_dir'] = log_dir\n",
    "\n",
    "a2c(h)"
   ]
  },
  {
   "cell_type": "code",
   "execution_count": 184,
   "metadata": {},
   "outputs": [
    {
     "data": {
      "text/plain": [
       "Text(0, 0.5, 'estimate of initial state')"
      ]
     },
     "execution_count": 184,
     "metadata": {},
     "output_type": "execute_result"
    },
    {
     "data": {
      "image/png": "[encoded data removed]",
      "text/plain": [
       "<Figure size 432x288 with 1 Axes>"
      ]
     },
     "metadata": {
      "needs_background": "light"
     },
     "output_type": "display_data"
    }
   ],
   "source": [
    "import matplotlib.pyplot as plt\n",
    "\n",
    "log_dir = 'log/evaluate-critic'\n",
    "init_state_estimate = Logger(log_dir).load()['init_state_estimate']\n",
    "init_state_estimate = [x[1] for x in init_state_estimate]\n",
    "\n",
    "plt.plot(init_state_estimate)\n",
    "plt.xlabel('steps')\n",
    "plt.ylabel('estimate of initial state')"
   ]
  },
  {
   "cell_type": "markdown",
   "metadata": {},
   "source": [
    "## N && B: policy net and value net initialization\n",
    "\n",
    "orthogonal initiazation\n",
    "\n",
    "[provable benefit of orthogonal init](https://openreview.net/pdf?id=rkgqN1SYvr)"
   ]
  },
  {
   "cell_type": "markdown",
   "metadata": {},
   "source": [
    "## N && B: separate backbone or 1 backbone\n",
    "Just try it"
   ]
  },
  {
   "cell_type": "markdown",
   "metadata": {},
   "source": [
    "## N && B: when something is wrong, look at what the policy is doing\n",
    "The agent seems to not be able to "
   ]
  },
  {
   "cell_type": "code",
   "execution_count": 22,
   "metadata": {},
   "outputs": [],
   "source": [
    "import matplotlib.pyplot as plt\n",
    "%matplotlib inline\n",
    "from IPython import display\n",
    "import gym\n",
    "\n",
    "def show_state(env, step=0, info=\"\"):\n",
    "    plt.figure(3)\n",
    "    plt.clf()\n",
    "    plt.imshow(env.render(mode='rgb_array'))\n",
    "    plt.axis('off')\n",
    "\n",
    "    display.clear_output(wait=True)\n",
    "    display.display(plt.gcf())\n",
    "    return\n"
   ]
  },
  {
   "cell_type": "code",
   "execution_count": 12,
   "metadata": {},
   "outputs": [
    {
     "data": {
      "image/png": "[encoded data removed]",
      "text/plain": [
       "<Figure size 432x288 with 1 Axes>"
      ]
     },
     "metadata": {},
     "output_type": "display_data"
    },
    {
     "name": "stdout",
     "output_type": "stream",
     "text": [
      "Episode finished after 194 timesteps\n"
     ]
    },
    {
     "data": {
      "text/plain": [
       "<Figure size 432x288 with 0 Axes>"
      ]
     },
     "metadata": {},
     "output_type": "display_data"
    }
   ],
   "source": [
    "from algo import Agent\n",
    "from model import MLPSingleArch\n",
    "\n",
    "h = {\n",
    "    \"n_iters\": 1000,\n",
    "    \"nenvs\": 16, # to be changed\n",
    "    \"ckpt_interval\": 100,\n",
    "    \"nsteps\" : 10, # length of trajectory\n",
    "    \"entropy_coef\" : 0., \n",
    "    \"learning_rate\": 1e-4,\n",
    "    \"p_coef\": 1.0,\n",
    "    \"v_coef\":1.0,\n",
    "    \"gamma\": 0.99,\n",
    "    \"device\": \"cpu\",\n",
    "    \"clip_grad_norm\": True,\n",
    "    \"evalute_critic\": True\n",
    "    #\"ckpt_dir\": 'ckpt/debug', # to be changed \n",
    "    #\"log_dir\": 'log/debug' # to be changed\n",
    "}\n",
    "\n",
    "\n",
    "env = gym.make('CartPole-v0').unwrapped\n",
    "observation = env.reset()\n",
    "\n",
    "agent = Agent(\n",
    "    model = MLPSingleArch(\n",
    "        input_dim = env.observation_space.shape[0],\n",
    "        n_actions=env.action_space.n\n",
    "    ), h=h)\n",
    "\n",
    "agent.resume('ckpt/nsteps-7/ckpt-999.pt')\n",
    "    \n",
    "for t in range(1000):\n",
    "    action = agent.take_action(observation, greedy=True)\n",
    "    show_state(env, t)\n",
    "    observation, reward, done, info = env.step(action[0])\n",
    "    if done:\n",
    "        print(\"Episode finished after {} timesteps\".format(t+1))\n",
    "        plt.clf()\n",
    "        break"
   ]
  },
  {
   "cell_type": "code",
   "execution_count": 14,
   "metadata": {},
   "outputs": [
    {
     "data": {
      "image/png": "[encoded data removed]",
      "text/plain": [
       "<Figure size 432x288 with 1 Axes>"
      ]
     },
     "metadata": {},
     "output_type": "display_data"
    },
    {
     "name": "stdout",
     "output_type": "stream",
     "text": [
      "Episode finished after 229 timesteps\n"
     ]
    },
    {
     "data": {
      "text/plain": [
       "<Figure size 432x288 with 0 Axes>"
      ]
     },
     "metadata": {},
     "output_type": "display_data"
    }
   ],
   "source": [
    "env = gym.make('CartPole-v0').unwrapped\n",
    "observation = env.reset()\n",
    "\n",
    "agent = Agent(\n",
    "    model = MLPSingleArch(\n",
    "        input_dim = env.observation_space.shape[0],\n",
    "        n_actions=env.action_space.n\n",
    "    ), h=h)\n",
    "\n",
    "agent.resume('ckpt/nsteps-29/ckpt-999.pt')\n",
    "    \n",
    "for t in range(1000):\n",
    "    action = agent.take_action(observation, greedy=True)\n",
    "    show_state(env, t)\n",
    "    observation, reward, done, info = env.step(action[0])\n",
    "    if done:\n",
    "        print(\"Episode finished after {} timesteps\".format(t+1))\n",
    "        plt.clf()\n",
    "        break"
   ]
  },
  {
   "cell_type": "code",
   "execution_count": 17,
   "metadata": {},
   "outputs": [
    {
     "data": {
      "image/png": "[encoded data removed]",
      "text/plain": [
       "<Figure size 432x288 with 1 Axes>"
      ]
     },
     "metadata": {},
     "output_type": "display_data"
    },
    {
     "name": "stdout",
     "output_type": "stream",
     "text": [
      "Episode finished after 1251 timesteps\n"
     ]
    },
    {
     "data": {
      "text/plain": [
       "<Figure size 432x288 with 0 Axes>"
      ]
     },
     "metadata": {},
     "output_type": "display_data"
    }
   ],
   "source": [
    "env = gym.make('CartPole-v0').unwrapped\n",
    "observation = env.reset()\n",
    "\n",
    "agent = Agent(\n",
    "    model = MLPSingleArch(\n",
    "        input_dim = env.observation_space.shape[0],\n",
    "        n_actions=env.action_space.n\n",
    "    ), h=h)\n",
    "\n",
    "agent.resume('ckpt/nsteps-10/ckpt-999.pt')\n",
    "    \n",
    "for t in range(1500):\n",
    "    action = agent.take_action(observation, greedy=True)\n",
    "    show_state(env, t)\n",
    "    observation, reward, done, info = env.step(action[0])\n",
    "    if done:\n",
    "        print(\"Episode finished after {} timesteps\".format(t+1))\n",
    "        plt.clf()\n",
    "        break\n",
    "plt.clf()"
   ]
  },
  {
   "cell_type": "markdown",
   "metadata": {},
   "source": [
    "## Inspect logs from training\n",
    "\n"
   ]
  },
  {
   "cell_type": "code",
   "execution_count": 19,
   "metadata": {},
   "outputs": [
    {
     "data": {
      "text/html": [
       "<div>\n",
       "<style scoped>\n",
       "    .dataframe tbody tr th:only-of-type {\n",
       "        vertical-align: middle;\n",
       "    }\n",
       "\n",
       "    .dataframe tbody tr th {\n",
       "        vertical-align: top;\n",
       "    }\n",
       "\n",
       "    .dataframe thead th {\n",
       "        text-align: right;\n",
       "    }\n",
       "</style>\n",
       "<table border=\"1\" class=\"dataframe\">\n",
       "  <thead>\n",
       "    <tr style=\"text-align: right;\">\n",
       "      <th></th>\n",
       "      <th>Q</th>\n",
       "      <th>average_param</th>\n",
       "      <th>entropy</th>\n",
       "      <th>explained_var</th>\n",
       "      <th>init_est</th>\n",
       "      <th>iter/niters</th>\n",
       "      <th>ma_rew</th>\n",
       "      <th>policy_loss</th>\n",
       "      <th>value_loss</th>\n",
       "      <th>vpreds</th>\n",
       "      <th>vqdiff</th>\n",
       "    </tr>\n",
       "  </thead>\n",
       "  <tbody>\n",
       "    <tr>\n",
       "      <th>0</th>\n",
       "      <td>9.242673</td>\n",
       "      <td>0.000214</td>\n",
       "      <td>0.692193</td>\n",
       "      <td>-0.009317</td>\n",
       "      <td>0.030310</td>\n",
       "      <td>10/10000</td>\n",
       "      <td>35.594524</td>\n",
       "      <td>6.307028</td>\n",
       "      <td>122.790306</td>\n",
       "      <td>0.123269</td>\n",
       "      <td>122.790325</td>\n",
       "    </tr>\n",
       "    <tr>\n",
       "      <th>1</th>\n",
       "      <td>8.737450</td>\n",
       "      <td>0.000334</td>\n",
       "      <td>0.692241</td>\n",
       "      <td>-0.028421</td>\n",
       "      <td>0.060961</td>\n",
       "      <td>20/10000</td>\n",
       "      <td>34.810470</td>\n",
       "      <td>5.880579</td>\n",
       "      <td>103.021220</td>\n",
       "      <td>0.239539</td>\n",
       "      <td>103.021221</td>\n",
       "    </tr>\n",
       "    <tr>\n",
       "      <th>2</th>\n",
       "      <td>9.020869</td>\n",
       "      <td>0.000547</td>\n",
       "      <td>0.692070</td>\n",
       "      <td>-0.040441</td>\n",
       "      <td>0.096698</td>\n",
       "      <td>30/10000</td>\n",
       "      <td>34.303734</td>\n",
       "      <td>5.987917</td>\n",
       "      <td>111.129020</td>\n",
       "      <td>0.349651</td>\n",
       "      <td>111.128998</td>\n",
       "    </tr>\n",
       "    <tr>\n",
       "      <th>3</th>\n",
       "      <td>8.634137</td>\n",
       "      <td>0.000856</td>\n",
       "      <td>0.690718</td>\n",
       "      <td>-0.053175</td>\n",
       "      <td>0.140809</td>\n",
       "      <td>40/10000</td>\n",
       "      <td>30.986355</td>\n",
       "      <td>5.625846</td>\n",
       "      <td>101.429090</td>\n",
       "      <td>0.519583</td>\n",
       "      <td>101.429106</td>\n",
       "    </tr>\n",
       "    <tr>\n",
       "      <th>4</th>\n",
       "      <td>8.194035</td>\n",
       "      <td>0.001236</td>\n",
       "      <td>0.688801</td>\n",
       "      <td>-0.068001</td>\n",
       "      <td>0.195117</td>\n",
       "      <td>50/10000</td>\n",
       "      <td>35.825058</td>\n",
       "      <td>5.248168</td>\n",
       "      <td>89.901000</td>\n",
       "      <td>0.664504</td>\n",
       "      <td>89.900987</td>\n",
       "    </tr>\n",
       "  </tbody>\n",
       "</table>\n",
       "</div>"
      ],
      "text/plain": [
       "          Q  average_param   entropy  explained_var  init_est iter/niters  \\\n",
       "0  9.242673       0.000214  0.692193      -0.009317  0.030310    10/10000   \n",
       "1  8.737450       0.000334  0.692241      -0.028421  0.060961    20/10000   \n",
       "2  9.020869       0.000547  0.692070      -0.040441  0.096698    30/10000   \n",
       "3  8.634137       0.000856  0.690718      -0.053175  0.140809    40/10000   \n",
       "4  8.194035       0.001236  0.688801      -0.068001  0.195117    50/10000   \n",
       "\n",
       "      ma_rew  policy_loss  value_loss    vpreds      vqdiff  \n",
       "0  35.594524     6.307028  122.790306  0.123269  122.790325  \n",
       "1  34.810470     5.880579  103.021220  0.239539  103.021221  \n",
       "2  34.303734     5.987917  111.129020  0.349651  111.128998  \n",
       "3  30.986355     5.625846  101.429090  0.519583  101.429106  \n",
       "4  35.825058     5.248168   89.901000  0.664504   89.900987  "
      ]
     },
     "execution_count": 19,
     "metadata": {},
     "output_type": "execute_result"
    }
   ],
   "source": [
    "import pandas as pd\n",
    "import matplotlib.pyplot as plt\n",
    "import numpy as np\n",
    "import math\n",
    "\n",
    "#logfile = '/home/ubuntu/tmp/logs/a2c/cartpole/0/progress.csv'\n",
    "\n",
    "logfile = '/tmp/log/debug/progress.csv'\n",
    "prog =pd.read_csv(logfile)#.dropna()\n",
    "\n",
    "prog.head()"
   ]
  },
  {
   "cell_type": "code",
   "execution_count": 37,
   "metadata": {},
   "outputs": [
    {
     "name": "stdout",
     "output_type": "stream",
     "text": [
      "Q\n"
     ]
    },
    {
     "data": {
      "image/png": "[encoded data removed]",
      "text/plain": [
       "<Figure size 432x288 with 1 Axes>"
      ]
     },
     "metadata": {
      "needs_background": "light"
     },
     "output_type": "display_data"
    },
    {
     "name": "stdout",
     "output_type": "stream",
     "text": [
      "\n",
      "average_param\n"
     ]
    },
    {
     "data": {
      "image/png": "[encoded data removed]",
      "text/plain": [
       "<Figure size 432x288 with 1 Axes>"
      ]
     },
     "metadata": {
      "needs_background": "light"
     },
     "output_type": "display_data"
    },
    {
     "name": "stdout",
     "output_type": "stream",
     "text": [
      "\n",
      "entropy\n"
     ]
    },
    {
     "data": {
      "image/png": "[encoded data removed]",
      "text/plain": [
       "<Figure size 432x288 with 1 Axes>"
      ]
     },
     "metadata": {
      "needs_background": "light"
     },
     "output_type": "display_data"
    },
    {
     "name": "stdout",
     "output_type": "stream",
     "text": [
      "\n",
      "explained_var\n"
     ]
    },
    {
     "data": {
      "image/png": "[encoded data removed]",
      "text/plain": [
       "<Figure size 432x288 with 1 Axes>"
      ]
     },
     "metadata": {
      "needs_background": "light"
     },
     "output_type": "display_data"
    },
    {
     "name": "stdout",
     "output_type": "stream",
     "text": [
      "\n",
      "init_est\n"
     ]
    },
    {
     "data": {
      "image/png": "[encoded data removed]",
      "text/plain": [
       "<Figure size 432x288 with 1 Axes>"
      ]
     },
     "metadata": {
      "needs_background": "light"
     },
     "output_type": "display_data"
    },
    {
     "name": "stdout",
     "output_type": "stream",
     "text": [
      "\n",
      "ma_rew\n"
     ]
    },
    {
     "data": {
      "image/png": "[encoded data removed]",
      "text/plain": [
       "<Figure size 432x288 with 1 Axes>"
      ]
     },
     "metadata": {
      "needs_background": "light"
     },
     "output_type": "display_data"
    },
    {
     "name": "stdout",
     "output_type": "stream",
     "text": [
      "\n",
      "policy_loss\n"
     ]
    },
    {
     "data": {
      "image/png": "[encoded data removed]",
      "text/plain": [
       "<Figure size 432x288 with 1 Axes>"
      ]
     },
     "metadata": {
      "needs_background": "light"
     },
     "output_type": "display_data"
    },
    {
     "name": "stdout",
     "output_type": "stream",
     "text": [
      "\n",
      "value_loss\n"
     ]
    },
    {
     "data": {
      "image/png": "[encoded data removed]",
      "text/plain": [
       "<Figure size 432x288 with 1 Axes>"
      ]
     },
     "metadata": {
      "needs_background": "light"
     },
     "output_type": "display_data"
    },
    {
     "name": "stdout",
     "output_type": "stream",
     "text": [
      "\n",
      "vpreds\n"
     ]
    },
    {
     "data": {
      "image/png": "[encoded data removed]",
      "text/plain": [
       "<Figure size 432x288 with 1 Axes>"
      ]
     },
     "metadata": {
      "needs_background": "light"
     },
     "output_type": "display_data"
    },
    {
     "name": "stdout",
     "output_type": "stream",
     "text": [
      "\n",
      "vqdiff\n"
     ]
    },
    {
     "data": {
      "image/png": "[encoded data removed]",
      "text/plain": [
       "<Figure size 432x288 with 1 Axes>"
      ]
     },
     "metadata": {
      "needs_background": "light"
     },
     "output_type": "display_data"
    },
    {
     "name": "stdout",
     "output_type": "stream",
     "text": [
      "\n"
     ]
    }
   ],
   "source": [
    "for c in prog.columns:\n",
    "    if c == 'iter/niters': continue\n",
    "    print(c)\n",
    "    plt.plot(prog[c])\n",
    "    plt.show()\n",
    "    print()"
   ]
  },
  {
   "cell_type": "code",
   "execution_count": 38,
   "metadata": {},
   "outputs": [
    {
     "data": {
      "image/png": "[encoded data removed]",
      "text/plain": [
       "<Figure size 432x288 with 1 Axes>"
      ]
     },
     "metadata": {},
     "output_type": "display_data"
    },
    {
     "data": {
      "text/plain": [
       "<Figure size 432x288 with 0 Axes>"
      ]
     },
     "metadata": {},
     "output_type": "display_data"
    }
   ],
   "source": [
    "# look at the agent's behavior\n",
    "from algo import Agent\n",
    "from model import MLPSingleArch\n",
    "\n",
    "env = gym.make('CartPole-v0').unwrapped\n",
    "observation = env.reset()\n",
    "\n",
    "agent = Agent(\n",
    "    model = MLPSingleArch(\n",
    "        input_dim = env.observation_space.shape[0],\n",
    "        n_actions=env.action_space.n\n",
    "    ), h=h)\n",
    "\n",
    "agent.resume('/tmp/ckpt/debug/0/ckpt-10000.pt')\n",
    "    \n",
    "for t in range(1500):\n",
    "    action = agent.take_action(observation, greedy=True)\n",
    "    show_state(env, t)\n",
    "    observation, reward, done, info = env.step(action[0])\n",
    "    if done:\n",
    "        print(\"Episode finished after {} timesteps\".format(t+1))\n",
    "        plt.clf()\n",
    "        break\n",
    "plt.clf()"
   ]
  },
  {
   "cell_type": "markdown",
   "metadata": {},
   "source": [
    "## pass this trained agent to TrajectorySampler\n",
    "\n",
    "Look at the behaviour of this agent over a trajectory. This is a way to debug the agent and the sampler. "
   ]
  },
  {
   "cell_type": "code",
   "execution_count": 27,
   "metadata": {},
   "outputs": [],
   "source": [
    "from algo import TrajectorySampler\n",
    "from cartpole import make_env\n",
    "from env_batch import ParallelEnvBatch\n",
    "\n",
    "env = ParallelEnvBatch(make_env, nenvs=4)\n",
    "\n",
    "sampler = TrajectorySampler(env, agent)"
   ]
  },
  {
   "cell_type": "code",
   "execution_count": 28,
   "metadata": {},
   "outputs": [],
   "source": [
    "traj = sampler(nsteps=128)"
   ]
  },
  {
   "cell_type": "code",
   "execution_count": 30,
   "metadata": {},
   "outputs": [
    {
     "data": {
      "text/plain": [
       "algo.Experience"
      ]
     },
     "execution_count": 30,
     "metadata": {},
     "output_type": "execute_result"
    }
   ],
   "source": [
    "type(traj[0])"
   ]
  },
  {
   "cell_type": "code",
   "execution_count": 32,
   "metadata": {},
   "outputs": [
    {
     "name": "stdout",
     "output_type": "stream",
     "text": [
      "Experience(curr_state=array([[ 0.01894818,  0.191483  , -0.01738418, -0.31467869],\n",
      "       [ 0.03610875,  0.1481333 ,  0.03010088, -0.20592525],\n",
      "       [ 0.06122871,  0.63385992, -0.05451082, -0.96264672],\n",
      "       [-0.04661395, -0.21629881, -0.00382745,  0.28914506]]), action=array([0, 1, 0, 1]), log_pi_a=tensor([-0.1832, -1.0053, -0.0175, -0.5034], grad_fn=<SqueezeBackward1>), entropy=tensor([0.4518, 0.6568, 0.0877, 0.6712], grad_fn=<NegBackward>), reward=array([1., 1., 1., 1.]), v=tensor([[ 99.9898],\n",
      "        [ 99.9989],\n",
      "        [ 99.9239],\n",
      "        [100.0086]], grad_fn=<AddmmBackward>), nx_state=array([[ 0.02277784, -0.00338705, -0.02367776, -0.02752846],\n",
      "       [ 0.03907141,  0.34281216,  0.02598237, -0.48896294],\n",
      "       [ 0.0739059 ,  0.43951114, -0.07376376, -0.68757481],\n",
      "       [-0.05093992, -0.02112249,  0.00195545, -0.00474254]]), done=array([False, False, False, False]))\n"
     ]
    }
   ],
   "source": [
    "from algo import Experience\n",
    "\n",
    "print(traj[0])"
   ]
  },
  {
   "cell_type": "code",
   "execution_count": 35,
   "metadata": {},
   "outputs": [
    {
     "name": "stdout",
     "output_type": "stream",
     "text": [
      "[ 99.9898    99.99888   99.923874 100.00862 ]\n",
      "[100.003105 100.007126  99.99039   99.985756]\n",
      "[100.02351  99.9965   99.97923 100.00966]\n",
      "[100.0276  100.03154  99.96517 100.00229]\n",
      "[100.02647   99.99273   99.981735 100.00395 ]\n",
      "[100.008026 100.02836  100.01522   99.99944 ]\n",
      "[ 99.98625  99.99827 100.04485 100.00082]\n",
      "[ 99.9865  100.02748 100.01106 100.00618]\n",
      "[ 99.97867   99.982765 100.03573   99.99753 ]\n",
      "[ 99.99036 100.0236  100.07972 100.00659]\n",
      "[100.02171   99.996056 100.15893   99.96626 ]\n",
      "[100.02403  100.0219   100.0655   100.009224]\n",
      "[100.05827  99.96937 100.12089  99.96924]\n",
      "[100.13513 100.01302 100.24238 100.01198]\n",
      "[100.03287   99.957214 100.094124  99.99487 ]\n",
      "[ 99.99898  99.99992 100.01121 100.01323]\n",
      "[100.01084  99.99697  99.98622  99.97278]\n",
      "[99.97756  99.988945 99.9822   99.974365]\n",
      "[100.00803  99.99516 100.01866  99.98294]\n",
      "[100.02343   99.981186  99.97269   99.978004]\n",
      "[100.0017   99.99327 100.01931  99.99137]\n",
      "[100.0218   99.97576  99.96002  99.98114]\n",
      "[ 99.996605  99.99111  100.01263   99.99498 ]\n",
      "[100.019875  99.96913   99.93952   99.98366 ]\n",
      "[99.98915  99.975006 99.99174  99.99406 ]\n",
      "[100.017654  99.9855   100.00048   99.98559 ]\n",
      "[99.978035 99.98551  99.964615 99.990074]\n",
      "[100.01221   99.974014  99.99293   99.98531 ]\n",
      "[99.97938  99.98901  99.93376  99.983826]\n",
      "[100.00868   99.97678   99.979675 100.03321 ]\n",
      "[ 99.98375  99.99436  99.94464 100.01384]\n",
      "[ 99.97414  99.97524  99.93816 100.03564]\n",
      "[ 99.9907    99.991516  99.777565 100.01027 ]\n",
      "[ 99.971344  99.976494  99.83744  100.013176]\n",
      "[ 99.98727   99.9952    99.862625 100.00017 ]\n",
      "[99.97573  99.99077  99.7993   99.994385]\n",
      "[ 99.99432 100.00021  99.82791  99.98717]\n",
      "[ 99.98398  99.99354  99.86597 100.02138]\n",
      "[ 99.98988 100.0003   99.79051  99.99507]\n",
      "[ 99.96326   99.99642   99.73194  100.003654]\n",
      "[ 99.987595 100.00051   99.73766  100.000626]\n",
      "[ 99.95739   99.98334   99.7897   100.005165]\n",
      "[ 99.959785  99.99798   99.82303  100.005135]\n",
      "[ 99.95658  99.99595  99.90453 100.00649]\n",
      "[ 99.963936  99.995125 100.0833   100.008705]\n",
      "[ 99.98366 100.00183  99.86454 100.00757]\n",
      "[ 99.97343  100.001175  99.832565 100.01149 ]\n",
      "[ 99.96463  100.00103   99.85324  100.021164]\n",
      "[ 99.98968  100.001945  99.90075  100.009895]\n",
      "[ 99.96997  100.00013   99.858345 100.00744 ]\n",
      "[ 99.98523  100.002914  99.855835 100.01052 ]\n",
      "[ 99.95491  99.99913  99.87735 100.00636]\n",
      "[ 99.982956 100.00418   99.84503  100.01133 ]\n",
      "[ 99.950966  99.998     99.92732  100.0053  ]\n",
      "[99.95839  99.995865 99.832214 99.993774]\n",
      "[ 99.951996  99.99465   99.8482   100.00212 ]\n",
      "[ 99.980736  99.993515  99.9735   100.01548 ]\n",
      "[ 99.9483    99.993065  99.988884 100.00097 ]\n",
      "[ 99.9582   99.98718  99.95936 100.00984]\n",
      "[ 99.94948 100.0108   99.98876 100.02911]\n",
      "[ 99.96221  99.98841  99.98398 100.00493]\n",
      "[ 99.97568 100.00663  99.98161 100.00036]\n",
      "[ 99.96303 100.02146  99.98718  99.99604]\n",
      "[ 99.93655 100.00255  99.97998  99.99883]\n",
      "[99.939766 99.99155  99.96612  99.988396]\n",
      "[ 99.98638  100.00048   99.977715 100.02535 ]\n",
      "[99.99192  99.99185  99.98068  99.988686]\n",
      "[ 99.991486  99.99895   99.97297  100.021904]\n",
      "[100.00369  100.0182    99.96732  100.015976]\n",
      "[ 99.99025   99.999405  99.98604  100.02365 ]\n",
      "[ 99.994606  99.9942   100.022095 100.123215]\n",
      "[100.02118   99.994644  99.9593    99.99298 ]\n",
      "[99.989555 99.99212  99.95181  99.98302 ]\n",
      "[ 99.98892   99.995255  99.95584  100.02039 ]\n",
      "[ 99.98495  100.018394  99.997116  99.99466 ]\n",
      "[ 99.98682  99.99568 100.003   100.00718]\n",
      "[99.99587  99.993935 99.96976  99.98766 ]\n",
      "[ 99.98224   99.994644  99.97864  100.006035]\n",
      "[ 99.995766 100.01689   99.97998   99.99072 ]\n",
      "[ 99.977066  99.995476  99.99211  100.00216 ]\n",
      "[99.97537  99.995476 99.968185 99.99353 ]\n",
      "[99.96554  99.99481  99.974846 99.99812 ]\n",
      "[100.01375  100.01574   99.96381   99.987724]\n",
      "[ 99.945496  99.99653   99.96568  100.013374]\n",
      "[100.00798  99.99693 100.0007  100.01909]\n",
      "[ 99.94747   99.99589   99.966545 100.01353 ]\n",
      "[100.00244  99.9966   99.96723  99.98945]\n",
      "[100.007416  99.995346  99.96566  100.      ]\n",
      "[99.99703 99.99627 99.96719 99.98689]\n",
      "[100.00256  99.99623  99.96533  99.99829]\n",
      "[99.99007 99.99383 99.96866 99.9841 ]\n",
      "[99.999146 99.99207  99.96599  99.98792 ]\n",
      "[100.00583  99.99342  99.97015  99.98312]\n",
      "[100.01644  99.99088  99.96757  99.97964]\n",
      "[100.08154  100.01464   99.962074 100.00729 ]\n",
      "[100.014206  99.99285   99.97178  100.02217 ]\n",
      "[100.00573   99.994484  99.96726  100.00426 ]\n",
      "[100.01435   99.995575  99.99292   99.975746]\n",
      "[100.00653   99.99175   99.977455  99.98463 ]\n",
      "[100.017586  99.99304   99.98703   99.967125]\n",
      "[100.01631   99.988914  99.98802   99.99909 ]\n",
      "[100.07376   99.980095  99.99638  100.01656 ]\n",
      "[99.95628  99.98796  99.992714 99.99611 ]\n",
      "[100.07387   99.97403  100.00067   99.964836]\n",
      "[ 99.92251   99.986786 100.0139    99.98985 ]\n",
      "[ 99.93358  99.96706 100.00632 100.01332]\n",
      "[ 99.94268 100.00573 100.00193 100.03396]\n",
      "[ 99.92616  99.9639  100.00347 100.01147]\n",
      "[ 99.959206 100.00335  100.002174  99.99436 ]\n",
      "[ 99.9919   100.010185 100.00226  100.01076 ]\n",
      "[ 99.92614  100.00117  100.022224  99.996346]\n",
      "[ 99.97092  100.008446 100.00907  100.010345]\n",
      "[ 99.93829 100.02301 100.00914 100.02803]\n",
      "[ 99.92793 100.00741 100.00534 100.00986]\n",
      "[ 99.96394   99.999016 100.03255  100.00608 ]\n",
      "[ 99.9216    99.9756    99.97768  100.010376]\n",
      "[ 99.934105  99.99914   99.973976 100.0301  ]\n",
      "[ 99.9192   99.97656  99.95818 100.01076]\n",
      "[ 99.91182   99.99927  100.01378  100.030334]\n",
      "[ 99.968216 100.00767  100.00495  100.01178 ]\n",
      "[ 99.90918 100.02015  99.99874 100.02952]\n",
      "[ 99.91441  100.00835   99.932144  99.99113 ]\n",
      "[ 99.91199  100.000656  99.977554 100.03206 ]\n",
      "[ 99.77922  99.99818  99.90479 100.00617]\n",
      "[ 99.83229  100.001724  99.94627  100.03694 ]\n",
      "[ 99.81879  99.99862  99.98641 100.0076 ]\n",
      "[ 99.73227 100.00418  99.9344  100.03079]\n",
      "[ 99.76722 100.00335  99.93475 100.01603]\n"
     ]
    }
   ],
   "source": [
    "# look at V\n",
    "import numpy as np\n",
    "for e in traj:\n",
    "    print(np.squeeze(e.v.detach().numpy()))"
   ]
  }
 ],
 "metadata": {
  "kernelspec": {
   "display_name": "Python 3",
   "language": "python",
   "name": "python3"
  },
  "language_info": {
   "codemirror_mode": {
    "name": "ipython",
    "version": 3
   },
   "file_extension": ".py",
   "mimetype": "text/x-python",
   "name": "python",
   "nbconvert_exporter": "python",
   "pygments_lexer": "ipython3",
   "version": "3.8.3"
  }
 },
 "nbformat": 4,
 "nbformat_minor": 5
}
