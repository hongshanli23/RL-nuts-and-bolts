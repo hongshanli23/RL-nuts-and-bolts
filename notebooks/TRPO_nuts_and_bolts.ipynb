{
 "cells": [
  {
   "cell_type": "markdown",
   "id": "junior-uruguay",
   "metadata": {},
   "source": [
    "# TRPO Nuts and Bolts"
   ]
  },
  {
   "cell_type": "markdown",
   "id": "decreased-douglas",
   "metadata": {},
   "source": [
    "## Conjugate gradient algorithm\n",
    "\n",
    "Conjugate gradient algorithm is used to solve the linear sysmtem\n",
    "\n",
    "$$\n",
    "A x = b\n",
    "$$\n",
    "\n",
    "where $A$ is a positive definite symmetric matrix and $b$. In TRPO, CG is\n",
    "used to estimate the natural policy gradient\n",
    "\n",
    "$$\n",
    "\\hat H^{-1} g\n",
    "$$\n",
    "where $H$ is the Hessian of $KL(\\theta || \\theta_k)$ and $g$ is the ususal\n",
    "policy gradient. \n",
    "\n",
    "A good reference of thy can be found at \n",
    "\n",
    "https://sites.stat.washington.edu/wxs/Stat538-w03/conjugate-gradients.pdf\n",
    "\n",
    "Nocedal && Wright (Numerical optimization)\n",
    "\n",
    "Summary:\n",
    "- It iteratively compute the solution $x$ by constructing a A-conjugate basis\n",
    "- $\\langle p_1, \\cdots, p_n \\rangle$ is $A$-conjugate if $p_i^t A p_j = \\delta_{ij}$\n"
   ]
  },
  {
   "cell_type": "code",
   "execution_count": null,
   "id": "agricultural-university",
   "metadata": {},
   "outputs": [],
   "source": [
    "# after studying the math for 1 day, you will get\n",
    "\n",
    "def conjugate_gradient(f_Ax, b, cg_iters=10, residual_tol=1e-10):\n",
    "    \"\"\" Solve Ax = b \n",
    "    \n",
    "    Args:\n",
    "        f_Ax: a function such that f_Ax(p) = Hp for any vector p\n",
    "        b : b\n",
    "        cg_iters: number of iterations\n",
    "        residual_tol: residual tolerance\n",
    "            if ||Ax - b|| is less than residual_tol, then stop iteration\n",
    "    \n",
    "    Return:\n",
    "        x, info\n",
    "    \"\"\"\n",
    "    x = torch.zeros_like(b, dtype=torch.float32)\n",
    "    # residual and A-conjugate basis\n",
    "    r, p = b.clone(), b.clone()\n",
    "    rr = torch.dot(r, r)\n",
    "        \n",
    "    for i in range(cg_iters):\n",
    "        Ap = f_Ax(p)\n",
    "        alpha = rr / torch.dot(p, Ap)\n",
    "        x = x + alpha * p\n",
    "        r = r - alpha * Ap\n",
    "        rr_new = torch.dot(r, r)\n",
    "        beta = - rr_new / rr\n",
    "        p = r - beta * p\n",
    "        rr = rr_new\n",
    "        if rr < residual_tol:\n",
    "            print(\"residual tolerance achieved, good enough for now\")\n",
    "            break\n",
    "        \n",
    "    info = {\n",
    "        \"cgiters\": i+1,\n",
    "        \"residual_norm\": rr.numpy(),\n",
    "        \"soln_norm\": np.linalg.norm(x.numpy())\n",
    "    }\n",
    "    return x, info"
   ]
  },
  {
   "cell_type": "markdown",
   "id": "fiscal-eagle",
   "metadata": {},
   "source": [
    "## Fisher vector product and direct method\n",
    "\n",
    "`f_Ax` above is called *Fisher vector product*, it is a function that maps a vector $p$ to $H\\cdot p$ where $H$ is the Hessian of (18)\n",
    "\n",
    "Hessian, if computed naively, is expensive and error-prone. But if all we want is\n",
    "$H \\cdot p$, then there is better way of doing it without explicitly computing \n",
    "$H$. This technique is called *direct method*\n",
    "\n",
    "Basically, let $(Hp)_i$ be the $i-th$ component of $Hp$ and let $f$ denote the $KL$ then\n",
    "\n",
    "\n",
    "\n",
    "\n",
    "\n",
    "\n",
    "\\begin{align}\n",
    "(Hp)_i & = \\frac{\\partial}{\\partial \\theta_i}\\frac{\\partial}{\\partial \\theta_1}f p_1 + \\cdots + \\frac{\\partial}{\\partial \\theta_i}\\frac{\\partial}{\\partial \\theta_n}f p_n \\\\\n",
    "& = \\frac{\\partial}{\\partial \\theta_i} (\\frac{\\partial f}{\\partial \\theta_1}p_1 + \n",
    "\\cdots + \\frac{\\partial f}{\\partial \\theta_n} p_n)\n",
    "\\end{align}\n",
    "\n",
    "\n",
    "i.e. compute the gradient with respect to $\\theta_i$, then take dot product between the gradient and $p$. Denote the result by $z$, then take the gradient of $z$ with respect to $\\theta$. \n",
    "\n",
    "The overall time and space complexity is $O(N)$. $N$ is the number of parameters. \n",
    "\n",
    "If we were to compute $H$ explicitly, then it requires $O(N^2)$ time and space."
   ]
  },
  {
   "cell_type": "code",
   "execution_count": 2,
   "id": "studied-salad",
   "metadata": {},
   "outputs": [],
   "source": [
    "# f_Ax\n",
    "def fisher_vector_product(p):\n",
    "    \"\"\"Fisher vector product\n",
    "    Used for conjugate gradient algorithm\n",
    "    \"\"\"\n",
    "    return compute_fvp(oldpi, pi, trajectory['obs'], p) + cg_damping*p\n",
    "\n",
    "\n",
    "def compute_fvp(oldpi, pi, obs, p):\n",
    "    \"\"\"Compute Ap\n",
    "    where A is the Hessian of KL(oldpi || pi)\n",
    "    Use direct method to avoid explicitly computing A\n",
    "    \"\"\"\n",
    "    obs = torch.from_numpy(obs)\n",
    "    oldpi_dist = oldpi.dist(oldpi.policy_net(obs))\n",
    "    pi_dist = pi.dist(pi.policy_net(obs))\n",
    "\n",
    "    kl = KL(oldpi_dist, pi_dist).mean()\n",
    "    klgrads = torch.autograd.grad(kl, \n",
    "        pi.policy_net.parameters(), create_graph=True)\n",
    "    klgrads = U.flatten(klgrads)\n",
    "\n",
    "    Ap = torch.autograd.grad(torch.dot(klgrads, p),\n",
    "        pi.policy_net.parameters())\n",
    "    return U.flatten(Ap)\n"
   ]
  },
  {
   "cell_type": "markdown",
   "id": "original-district",
   "metadata": {},
   "source": [
    "## Line search\n",
    "\n",
    "Line search is used to make sure the updated policy satisfies the KL constrain and the policy gain does improve. "
   ]
  },
  {
   "cell_type": "code",
   "execution_count": null,
   "id": "coupled-steam",
   "metadata": {},
   "outputs": [],
   "source": [
    "# stepsize of the update\n",
    "shs = torch.dot(npg, compute_fvp(\n",
    "        oldpi, pi, trajectory['obs'], npg)).detach()\n",
    "\n",
    "stepsize = torch.sqrt(2*max_kl/shs) # see (11)\n",
    "\n",
    "# backtrack line search\n",
    "params0 = U.flatten(pi.policy_net.parameters())\n",
    "expected_improve = torch.dot(g, stepsize * npg) # first order appr of surrgate gain\n",
    "for _ in range(backtrack_steps):\n",
    "    newparams = params0 + stepsize * npg\n",
    "    U.set_from_flat(pi.policy_net, newparams)\n",
    "    with torch.no_grad():\n",
    "        losses = compute_losses(oldpi, pi, trajectory) # pi has newparams\n",
    "\n",
    "    improve = losses['surr_gain'] - lossesbefore['surr_gain']\n",
    "    logger.log(\"Expected: %.3f Actual: %.3f\"%(expected_improve, improve))\n",
    "\n",
    "    if any(not torch.isfinite(v).all() for _, v in losses.items()):\n",
    "        logger.log('Got infinite loss!')\n",
    "    elif losses['meankl'] > 1.5 * max_kl:\n",
    "        logger.log('Violated KL contraint')\n",
    "    elif improve < 0.0:\n",
    "        logger.log('Surrogate gain not improving')\n",
    "    else:\n",
    "        logger.log('Step size is OK')\n",
    "        break\n",
    "    stepsize *= 0.5\n",
    "else:\n",
    "    logger.log('Canot find a good step size, resume to the old poliy')\n",
    "    U.set_from_flat(pi.policy_net, params0)"
   ]
  },
  {
   "cell_type": "code",
   "execution_count": 4,
   "id": "stock-karma",
   "metadata": {},
   "outputs": [],
   "source": [
    "def compute_losses(oldpi, pi, trajectory):\n",
    "    \"\"\"Compute surrogate gain and policy gradient\n",
    "    trajectory is sampled from the old policy;\n",
    "    Use importance sampling to estimate the policy\n",
    "    gain of pi relative to oldpi\n",
    "    \"\"\"\n",
    "\n",
    "    obs = trajectory['obs']\n",
    "    #print('obs dtype', obs.dtype)\n",
    "    obs = torch.from_numpy(obs).float()\n",
    "\n",
    "    actions = trajectory['actions']\n",
    "    actions = torch.from_numpy(actions).float()\n",
    "\n",
    "    pi_dist = pi.dist(pi.policy_net(obs))\n",
    "    \n",
    "    # no graph for old policy\n",
    "    # it should be treated as a constant\n",
    "    with torch.no_grad():\n",
    "        oldpi_dist = oldpi.dist(oldpi.policy_net(obs))\n",
    "\n",
    "    # estimate KL between oldpi and pi\n",
    "    # should be 0 in this function call\n",
    "    kl = KL(oldpi_dist, pi_dist).mean()\n",
    "\n",
    "    # importance sampling ratio\n",
    "    ratio = torch.exp(\n",
    "        pi_dist.log_prob(actions) - oldpi_dist.log_prob(actions)\n",
    "    )\n",
    "    if len(ratio.shape) > 1:\n",
    "        ratio = torch.squeeze(ratio, dim=1)\n",
    "\n",
    "    # estimate advantage of the old policy\n",
    "    adv = trajectory['Q'] - trajectory['vpreds']\n",
    "\n",
    "    # normalize advantage\n",
    "    adv = (adv - adv.mean())/adv.std()\n",
    "\n",
    "    # estimate the surrogate gain\n",
    "    adv = torch.from_numpy(adv)\n",
    "    assert ratio.shape == adv.shape, f\"ratio : {ratio.shape}, adv: {adv.shape}\"\n",
    "    surr_gain = torch.mean(ratio * adv)\n",
    "\n",
    "    res = {\n",
    "        'surr_gain': surr_gain,\n",
    "        'meankl': kl,\n",
    "        'entropy': pi_dist.entropy().mean()\n",
    "        }\n",
    "    return res"
   ]
  },
  {
   "cell_type": "markdown",
   "id": "cooperative-projector",
   "metadata": {},
   "source": [
    "## TRPO performance \n",
    "\n",
    "- Parallel environemnts (like in A2C) are used to sample experiences\n",
    "- Use A2C as a baseline\n",
    "- Use CartPole-v0"
   ]
  },
  {
   "cell_type": "markdown",
   "id": "exempt-dayton",
   "metadata": {},
   "source": [
    "A2C spec\n",
    "\n",
    "``` python\n",
    "def make_env():\n",
    "    env = gym.make('CartPole-v0').unwrapped\n",
    "    env = AutoReset(env)\n",
    "    env = StartWithRandomActions(env, max_random_actions=5)\n",
    "    return env\n",
    "\n",
    "nenvs = 16\n",
    "env=ParallelEnvBatch(pendulum, nenvs=nenvs)\n",
    "\n",
    "A2C(\n",
    "    env=env,\n",
    "    nsteps=32,\n",
    "    gamma=0.99,\n",
    "    total_timesteps=32*nenvs*10000,\n",
    "    pi_lr=1e-4,\n",
    "    v_lr=1e-4,\n",
    "    ent_coef=0.0,\n",
    "    log_interval=10,\n",
    "    max_grad_norm=0.1,\n",
    "    reward_transform=None,\n",
    "    log_dir= '/home/ubuntu/reinforcement-learning/experiments/A2C_2/debug/12/',\n",
    "    ckpt_dir='/home/ubuntu/reinforcement-learning/experiments/A2C_2/debug/12/',\n",
    "    hidden_layers=[256, 512],\n",
    "    activation=torch.nn.ReLU\n",
    ")\n",
    "    \n",
    "```\n",
    "---\n",
    "\n",
    "TRPO spec\n",
    "\n",
    "```python\n",
    "nenvs = 16\n",
    "env = ParallelEnvBatch(make_env, nenvs=nenvs)\n",
    "\n",
    "TRPO(\n",
    "    env=env,\n",
    "    nsteps=32, \n",
    "    total_timesteps=nenvs*32*10000,\n",
    "    gamma=0.99,\n",
    "    log_interval=10,\n",
    "    reward_transform=None,\n",
    "    log_dir='/home/ubuntu/reinforcement-learning/experiments/TRPO/4',\n",
    "    ckpt_dir='/home/ubuntu/reinforcement-learning/experiments/TRPO/4',\n",
    "    max_kl=1e-3,\n",
    "    cg_iters=10,\n",
    "    cg_damping=1e-2,\n",
    "    backtrack_steps=10,\n",
    "    v_iters=1,\n",
    "    batch_size=nenvs*32,\n",
    "    v_lr=1e-4,\n",
    "    hidden_layers=[256, 512],\n",
    "    activation=torch.nn.ReLU\n",
    ")\n",
    "```"
   ]
  },
  {
   "cell_type": "code",
   "execution_count": 11,
   "id": "accessible-trace",
   "metadata": {},
   "outputs": [],
   "source": [
    "import pandas as pd\n",
    "import matplotlib.pyplot as plt\n",
    "\n",
    "prog_a2c = \"/home/ubuntu/reinforcement-learning/experiments/A2C_2/debug/12/progress.csv\"\n",
    "prog_a2c = pd.read_csv(prog_a2c)\n",
    "\n",
    "logfile='/home/ubuntu/reinforcement-learning/experiments/TRPO/3/progress.csv'\n",
    "prog_3 = pd.read_csv(logfile)\n",
    "\n",
    "\n",
    "logfile = '/home/ubuntu/reinforcement-learning/experiments/TRPO/4/progress.csv'\n",
    "prog_4 = pd.read_csv(logfile)"
   ]
  },
  {
   "cell_type": "code",
   "execution_count": 12,
   "id": "continuing-elimination",
   "metadata": {},
   "outputs": [
    {
     "data": {
      "image/png": "[encoded data removed]",
      "text/plain": [
       "<Figure size 432x288 with 1 Axes>"
      ]
     },
     "metadata": {
      "needs_background": "light"
     },
     "output_type": "display_data"
    }
   ],
   "source": [
    "plt.title('v_iters=1, max_kl=1e-3')\n",
    "plt.plot(prog_a2c['ma_ep_ret'], label='a2c')\n",
    "plt.plot(prog_3['ma_ep_ret'], label='nenvs = 4')\n",
    "plt.plot(prog_4['ma_ep_ret'], label='nenvs = 16')\n",
    "plt.legend(bbox_to_anchor=(1.0, 1.0), loc='best')\n",
    "plt.show()"
   ]
  },
  {
   "cell_type": "markdown",
   "id": "nasty-facing",
   "metadata": {},
   "source": [
    "Observation:\n",
    "- TRPO can find good policy a lot faster, but it is not as stable as A2C\n",
    "- Number of envs (i.e. number of experiences) makes a huge difference for TRPO"
   ]
  },
  {
   "cell_type": "markdown",
   "id": "dominican-sensitivity",
   "metadata": {},
   "source": [
    "## Use a smaller architecture and more iterations in conjugate gradient\n",
    "\n",
    "```python\n",
    "nenvs = 16\n",
    "env = ParallelEnvBatch(make_env, nenvs=nenvs)\n",
    "\n",
    "TRPO(\n",
    "    env=env,\n",
    "    nsteps=32, \n",
    "    total_timesteps=nenvs*32*10000,\n",
    "    gamma=0.99,\n",
    "    log_interval=10,\n",
    "    reward_transform=None,\n",
    "    log_dir='/home/ubuntu/reinforcement-learning/experiments/TRPO/8',\n",
    "    ckpt_dir='/home/ubuntu/reinforcement-learning/experiments/TRPO/8',\n",
    "    max_kl=1e-3,\n",
    "    cg_iters=20,\n",
    "    cg_damping=1e-2,\n",
    "    backtrack_steps=10,\n",
    "    v_iters=1,\n",
    "    batch_size=nenvs*32,\n",
    "    v_lr=1e-4,\n",
    "    hidden_layers=[32, 32, 32],\n",
    "    activation=torch.nn.ReLU\n",
    ")\n",
    "```\n"
   ]
  },
  {
   "cell_type": "code",
   "execution_count": 14,
   "id": "thick-flexibility",
   "metadata": {},
   "outputs": [],
   "source": [
    "prog_8 = pd.read_csv(\n",
    "    '/home/ubuntu/reinforcement-learning/experiments/TRPO/8/progress.csv'\n",
    ")"
   ]
  },
  {
   "cell_type": "code",
   "execution_count": 15,
   "id": "scenic-shift",
   "metadata": {},
   "outputs": [
    {
     "data": {
      "image/png": "[encoded data removed]",
      "text/plain": [
       "<Figure size 432x288 with 1 Axes>"
      ]
     },
     "metadata": {
      "needs_background": "light"
     },
     "output_type": "display_data"
    }
   ],
   "source": [
    "plt.title('Return TRPO / A2C')\n",
    "plt.plot(prog_8['ma_ep_ret'], label='TRPO')\n",
    "plt.plot(prog_a2c['ma_ep_ret'], label='A2C')\n",
    "plt.legend(bbox_to_anchor=(1.0, 1.0), loc='best')\n",
    "plt.show()"
   ]
  },
  {
   "cell_type": "markdown",
   "id": "coordinated-family",
   "metadata": {},
   "source": [
    "Observation:\n",
    "- TRPO tends to have sharp policy boost"
   ]
  },
  {
   "cell_type": "markdown",
   "id": "german-angle",
   "metadata": {},
   "source": [
    "## On continuous problem\n",
    "\n",
    "Pendulum-v0 is an easy test bed for problems with continuous action space\n",
    "https://www.youtube.com/watch?v=DSU1KKeAe00\n",
    "\n",
    "The smaller the angle between the pendulum and the upwards direction, the higher the reward. "
   ]
  },
  {
   "cell_type": "markdown",
   "id": "informed-evaluation",
   "metadata": {},
   "source": [
    "A2C spec\n",
    "\n",
    "Truncate the env after 200 steps\n",
    "Look at the mean step reward in each iteration\n",
    "\n",
    "```python\n",
    "def pendulum():\n",
    "    \"\"\"Make env for pendulum\"\"\"\n",
    "\n",
    "    env = gym.make('Pendulum-v0')\n",
    "    #env = TransformReward(env, normalize_pendulum)\n",
    "    #env = Truncate(env, lower_bound=-10)\n",
    "    env = AutoReset(env)\n",
    "    return env\n",
    "\n",
    "nenvs = 16\n",
    "env=ParallelEnvBatch(pendulum, nenvs=nenvs)\n",
    "\n",
    "A2C(\n",
    "    env=env,\n",
    "    nsteps=32,\n",
    "    gamma=0.99,\n",
    "    total_timesteps=32*nenvs*10000,\n",
    "    pi_lr=1e-4,\n",
    "    v_lr=1e-4,\n",
    "    ent_coef=0.0,\n",
    "    log_interval=10,\n",
    "    max_grad_norm=0.1,\n",
    "    reward_transform=None,\n",
    "    log_dir= '/home/ubuntu/reinforcement-learning/experiments/A2C_2/log/pendulum/4',\n",
    "    ckpt_dir='/home/ubuntu/reinforcement-learning/experiments/A2C_2/log/pendulum/4',\n",
    "    hidden_layers=[64, 64, 16],\n",
    "    activation=torch.nn.ReLU\n",
    ")\n",
    "```\n",
    "\n",
    "----\n",
    "\n",
    "TRPO spec\n",
    "\n",
    "```python\n",
    "nenvs = 8\n",
    "env = ParallelEnvBatch(pendulum, nenvs=nenvs)\n",
    "\n",
    "TRPO(\n",
    "    env=env,\n",
    "    nsteps=128, \n",
    "    total_timesteps=nenvs*128*10000,\n",
    "    gamma=0.99,\n",
    "    log_interval=10,\n",
    "    reward_transform=None,\n",
    "    log_dir='/home/ubuntu/reinforcement-learning/experiments/TRPO/pendulum/3',\n",
    "    ckpt_dir='/home/ubuntu/reinforcement-learning/experiments/TRPO/pendulum/3',\n",
    "    max_kl=1e-2,\n",
    "    ent_coef=0.0,\n",
    "    cg_iters=10,\n",
    "    cg_damping=1e-2,\n",
    "    backtrack_steps=10,\n",
    "    v_iters=1,\n",
    "    batch_size=nenvs*32,\n",
    "    v_lr=1e-4,\n",
    "    hidden_layers=[256, 256, 64],\n",
    "    activation=torch.nn.ReLU\n",
    ")\n",
    "```\n",
    "\n",
    "The model used in TRPO is much bigger. \n",
    "\n",
    "\n"
   ]
  },
  {
   "cell_type": "code",
   "execution_count": 15,
   "id": "exact-adult",
   "metadata": {},
   "outputs": [],
   "source": [
    "prog_pen_a2c = pd.read_csv(\n",
    "'/home/ubuntu/reinforcement-learning/experiments/A2C_2/log/pendulum/4/progress.csv'\n",
    ")\n",
    "prog_pen_3 = pd.read_csv(\n",
    "'/home/ubuntu/reinforcement-learning/experiments/TRPO/pendulum/3/progress.csv'\n",
    ")"
   ]
  },
  {
   "cell_type": "code",
   "execution_count": 17,
   "id": "pacific-novel",
   "metadata": {},
   "outputs": [
    {
     "data": {
      "image/png": "[encoded data removed]",
      "text/plain": [
       "<Figure size 432x288 with 1 Axes>"
      ]
     },
     "metadata": {
      "needs_background": "light"
     },
     "output_type": "display_data"
    }
   ],
   "source": [
    "plt.title('Return TRPO / A2C')\n",
    "plt.plot(prog_pen_3['ma_ep_ret'][::10], label='TRPO')\n",
    "plt.plot(prog_pen_a2c['ma_ep_ret'][::10], label='A2C')\n",
    "plt.legend(bbox_to_anchor=(1.0, 1.0), loc='best')\n",
    "plt.show()"
   ]
  },
  {
   "cell_type": "code",
   "execution_count": 25,
   "id": "smoking-aging",
   "metadata": {},
   "outputs": [
    {
     "data": {
      "text/plain": [
       "Index(['FPS', 'Q', 'VQDiff', 'entropy', 'ma_ep_len', 'ma_ep_ret',\n",
       "       'mean_rew_step', 'meankl', 'policy_net_weight', 'step_size',\n",
       "       'surr_gain', 'value_loss', 'value_net_weight', 'vpreds'],\n",
       "      dtype='object')"
      ]
     },
     "execution_count": 25,
     "metadata": {},
     "output_type": "execute_result"
    }
   ],
   "source": [
    "prog_pen_3.columns"
   ]
  },
  {
   "cell_type": "code",
   "execution_count": 28,
   "id": "individual-heading",
   "metadata": {},
   "outputs": [
    {
     "data": {
      "text/plain": [
       "Index(['FPS', 'Q', 'entropy', 'explained_variance', 'frac',\n",
       "       'iteration/nupdates', 'ma_ep_len', 'ma_ep_ret', 'mean_rew_step',\n",
       "       'policy_loss', 'policy_net_weight', 'step_size', 'value_loss',\n",
       "       'value_net_weight', 'vpreds', 'vqdiff'],\n",
       "      dtype='object')"
      ]
     },
     "execution_count": 28,
     "metadata": {},
     "output_type": "execute_result"
    }
   ],
   "source": [
    "prog_a2c.columns"
   ]
  },
  {
   "cell_type": "code",
   "execution_count": 31,
   "id": "unexpected-regular",
   "metadata": {},
   "outputs": [
    {
     "data": {
      "text/plain": [
       "[<matplotlib.lines.Line2D at 0x7fe9391bf128>]"
      ]
     },
     "execution_count": 31,
     "metadata": {},
     "output_type": "execute_result"
    },
    {
     "data": {
      "image/png": "[encoded data removed]",
      "text/plain": [
       "<Figure size 432x288 with 1 Axes>"
      ]
     },
     "metadata": {
      "needs_background": "light"
     },
     "output_type": "display_data"
    }
   ],
   "source": [
    "plt.plot(prog_a2c['vqdiff'][::10])"
   ]
  },
  {
   "cell_type": "code",
   "execution_count": 32,
   "id": "equal-coupon",
   "metadata": {},
   "outputs": [
    {
     "data": {
      "text/plain": [
       "[<matplotlib.lines.Line2D at 0x7fe939185cc0>]"
      ]
     },
     "execution_count": 32,
     "metadata": {},
     "output_type": "execute_result"
    },
    {
     "data": {
      "image/png": "[encoded data removed]",
      "text/plain": [
       "<Figure size 432x288 with 1 Axes>"
      ]
     },
     "metadata": {
      "needs_background": "light"
     },
     "output_type": "display_data"
    }
   ],
   "source": [
    "plt.plot(prog_pen_3['VQDiff'])"
   ]
  },
  {
   "cell_type": "markdown",
   "id": "tribal-grenada",
   "metadata": {},
   "source": [
    "## Algorithms in action"
   ]
  },
  {
   "cell_type": "code",
   "execution_count": 24,
   "id": "current-california",
   "metadata": {},
   "outputs": [
    {
     "data": {
      "image/png": "[encoded data removed]",
      "text/plain": [
       "<Figure size 432x288 with 1 Axes>"
      ]
     },
     "metadata": {},
     "output_type": "display_data"
    },
    {
     "data": {
      "text/plain": [
       "<Figure size 432x288 with 0 Axes>"
      ]
     },
     "metadata": {},
     "output_type": "display_data"
    }
   ],
   "source": [
    "import matplotlib.pyplot as plt\n",
    "%matplotlib inline\n",
    "from IPython import display\n",
    "import gym\n",
    "import rlkits\n",
    "from rlkits.policies import PolicyWithValue\n",
    "import torch\n",
    "\n",
    "def show_state(env, step=0, info=\"\"):\n",
    "    plt.figure(3)\n",
    "    plt.clf()\n",
    "    plt.imshow(env.render(mode='rgb_array'))\n",
    "    plt.axis('off')\n",
    "\n",
    "    display.clear_output(wait=True)\n",
    "    display.display(plt.gcf())\n",
    "    return\n",
    "\n",
    "\n",
    "#env = gym.make('CartPole-v0').unwrapped\n",
    "env = gym.make('Pendulum-v0').unwrapped\n",
    "ob_space = env.observation_space\n",
    "ac_space = env.action_space\n",
    "\n",
    "pi = PolicyWithValue(\n",
    "    ob_space=ob_space,\n",
    "    ac_space=ac_space,\n",
    "    ckpt_dir='/tmp',\n",
    "    #hidden_layers=[32, 32, 32],\n",
    "    #hidden_layers=[256, 512],\n",
    "    #hidden_layers=[256, 256, 64], # (3, 256, 256, 64, 2)\n",
    "    \n",
    "    hidden_layers=[64, 64, 16],\n",
    "    activation=torch.nn.ReLU\n",
    ")\n",
    "\n",
    "pi.load_ckpt(\n",
    "    # cartpole\n",
    "    #'/home/ubuntu/reinforcement-learning/experiments/TRPO/4/ckpt.pth'\n",
    "    #'/home/ubuntu/reinforcement-learning/experiments/TRPO/8/ckpt-best.pth'\n",
    "    #'/home/ubuntu/reinforcement-learning/experiments/A2C_2/debug/12/ckpt.pth'\n",
    "    \n",
    "    # pendulum\n",
    "    #'/home/ubuntu/reinforcement-learning/experiments/TRPO/pendulum/3/ckpt-best.pth'\n",
    "    '/home/ubuntu/reinforcement-learning/experiments/A2C_2/log/pendulum/4/ckpt-best.pth'\n",
    ")\n",
    "\n",
    "observation = env.reset()\n",
    "for t in range(1500):\n",
    "    action, _, _ = pi.step(observation)\n",
    "    show_state(env, t)\n",
    "    observation, reward, done, info = env.step(action[0])\n",
    "    if done:\n",
    "        print(\"Episode finished after {} timesteps\".format(t+1))\n",
    "        plt.clf()\n",
    "        break\n",
    "plt.clf()"
   ]
  }
 ],
 "metadata": {
  "kernelspec": {
   "display_name": "pytorch_p36",
   "language": "python",
   "name": "pytorch_p36"
  },
  "language_info": {
   "codemirror_mode": {
    "name": "ipython",
    "version": 3
   },
   "file_extension": ".py",
   "mimetype": "text/x-python",
   "name": "python",
   "nbconvert_exporter": "python",
   "pygments_lexer": "ipython3",
   "version": "3.6.10"
  }
 },
 "nbformat": 4,
 "nbformat_minor": 5
}
