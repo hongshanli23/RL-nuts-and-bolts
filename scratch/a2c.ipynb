{
 "cells": [
  {
   "cell_type": "code",
   "execution_count": 8,
   "id": "lonely-watson",
   "metadata": {},
   "outputs": [
    {
     "data": {
      "text/html": [
       "<div>\n",
       "<style scoped>\n",
       "    .dataframe tbody tr th:only-of-type {\n",
       "        vertical-align: middle;\n",
       "    }\n",
       "\n",
       "    .dataframe tbody tr th {\n",
       "        vertical-align: top;\n",
       "    }\n",
       "\n",
       "    .dataframe thead th {\n",
       "        text-align: right;\n",
       "    }\n",
       "</style>\n",
       "<table border=\"1\" class=\"dataframe\">\n",
       "  <thead>\n",
       "    <tr style=\"text-align: right;\">\n",
       "      <th></th>\n",
       "      <th>FPS</th>\n",
       "      <th>Q</th>\n",
       "      <th>average_param</th>\n",
       "      <th>entropy</th>\n",
       "      <th>explained_variance</th>\n",
       "      <th>frac</th>\n",
       "      <th>iteration/nupdates</th>\n",
       "      <th>ma_ep_len</th>\n",
       "      <th>ma_ep_ret</th>\n",
       "      <th>mean_step_rew</th>\n",
       "      <th>policy_loss</th>\n",
       "      <th>value_loss</th>\n",
       "      <th>vpreds</th>\n",
       "      <th>vqdiff</th>\n",
       "    </tr>\n",
       "  </thead>\n",
       "  <tbody>\n",
       "    <tr>\n",
       "      <th>0</th>\n",
       "      <td>4375</td>\n",
       "      <td>8.757829</td>\n",
       "      <td>0.001155</td>\n",
       "      <td>0.693144</td>\n",
       "      <td>-0.000660</td>\n",
       "      <td>1.0000</td>\n",
       "      <td>1/10000</td>\n",
       "      <td>13.666667</td>\n",
       "      <td>14.222222</td>\n",
       "      <td>1.0</td>\n",
       "      <td>0.000106</td>\n",
       "      <td>109.57316</td>\n",
       "      <td>0.004368</td>\n",
       "      <td>109.57315</td>\n",
       "    </tr>\n",
       "    <tr>\n",
       "      <th>1</th>\n",
       "      <td>10490</td>\n",
       "      <td>9.139627</td>\n",
       "      <td>0.002962</td>\n",
       "      <td>0.693146</td>\n",
       "      <td>-0.003258</td>\n",
       "      <td>0.9991</td>\n",
       "      <td>10/10000</td>\n",
       "      <td>15.853333</td>\n",
       "      <td>16.426667</td>\n",
       "      <td>1.0</td>\n",
       "      <td>-0.000108</td>\n",
       "      <td>121.60480</td>\n",
       "      <td>0.028149</td>\n",
       "      <td>121.60480</td>\n",
       "    </tr>\n",
       "    <tr>\n",
       "      <th>2</th>\n",
       "      <td>10506</td>\n",
       "      <td>9.958805</td>\n",
       "      <td>0.005014</td>\n",
       "      <td>0.693144</td>\n",
       "      <td>-0.004166</td>\n",
       "      <td>0.9981</td>\n",
       "      <td>20/10000</td>\n",
       "      <td>18.140000</td>\n",
       "      <td>18.700000</td>\n",
       "      <td>1.0</td>\n",
       "      <td>0.000061</td>\n",
       "      <td>142.30432</td>\n",
       "      <td>0.050554</td>\n",
       "      <td>142.30432</td>\n",
       "    </tr>\n",
       "    <tr>\n",
       "      <th>3</th>\n",
       "      <td>10584</td>\n",
       "      <td>8.639934</td>\n",
       "      <td>0.007099</td>\n",
       "      <td>0.693136</td>\n",
       "      <td>-0.010651</td>\n",
       "      <td>0.9971</td>\n",
       "      <td>30/10000</td>\n",
       "      <td>20.340000</td>\n",
       "      <td>20.910000</td>\n",
       "      <td>1.0</td>\n",
       "      <td>-0.000026</td>\n",
       "      <td>107.26920</td>\n",
       "      <td>0.086027</td>\n",
       "      <td>107.26920</td>\n",
       "    </tr>\n",
       "    <tr>\n",
       "      <th>4</th>\n",
       "      <td>10479</td>\n",
       "      <td>10.202151</td>\n",
       "      <td>0.009299</td>\n",
       "      <td>0.693128</td>\n",
       "      <td>-0.010787</td>\n",
       "      <td>0.9961</td>\n",
       "      <td>40/10000</td>\n",
       "      <td>20.580000</td>\n",
       "      <td>21.130000</td>\n",
       "      <td>1.0</td>\n",
       "      <td>-0.000152</td>\n",
       "      <td>147.89760</td>\n",
       "      <td>0.108186</td>\n",
       "      <td>147.89758</td>\n",
       "    </tr>\n",
       "  </tbody>\n",
       "</table>\n",
       "</div>"
      ],
      "text/plain": [
       "     FPS          Q  average_param   entropy  explained_variance    frac  \\\n",
       "0   4375   8.757829       0.001155  0.693144           -0.000660  1.0000   \n",
       "1  10490   9.139627       0.002962  0.693146           -0.003258  0.9991   \n",
       "2  10506   9.958805       0.005014  0.693144           -0.004166  0.9981   \n",
       "3  10584   8.639934       0.007099  0.693136           -0.010651  0.9971   \n",
       "4  10479  10.202151       0.009299  0.693128           -0.010787  0.9961   \n",
       "\n",
       "  iteration/nupdates  ma_ep_len  ma_ep_ret  mean_step_rew  policy_loss  \\\n",
       "0            1/10000  13.666667  14.222222            1.0     0.000106   \n",
       "1           10/10000  15.853333  16.426667            1.0    -0.000108   \n",
       "2           20/10000  18.140000  18.700000            1.0     0.000061   \n",
       "3           30/10000  20.340000  20.910000            1.0    -0.000026   \n",
       "4           40/10000  20.580000  21.130000            1.0    -0.000152   \n",
       "\n",
       "   value_loss    vpreds     vqdiff  \n",
       "0   109.57316  0.004368  109.57315  \n",
       "1   121.60480  0.028149  121.60480  \n",
       "2   142.30432  0.050554  142.30432  \n",
       "3   107.26920  0.086027  107.26920  \n",
       "4   147.89760  0.108186  147.89758  "
      ]
     },
     "execution_count": 8,
     "metadata": {},
     "output_type": "execute_result"
    }
   ],
   "source": [
    "import pandas as pd\n",
    "import matplotlib.pyplot as plt\n",
    "import numpy as np\n",
    "import math\n",
    "\n",
    "logfile = '/home/ubuntu/tmp/log/debug/1/progress.csv'\n",
    "\n",
    "prog =pd.read_csv(logfile)\n",
    "\n",
    "prog.head()"
   ]
  },
  {
   "cell_type": "code",
   "execution_count": 14,
   "id": "rolled-inflation",
   "metadata": {},
   "outputs": [
    {
     "name": "stdout",
     "output_type": "stream",
     "text": [
      "torch.Size([4])\n",
      "tensor([[-1.7976, -1.7995, -1.7977, -1.7923],\n",
      "        [-1.6083, -1.6119, -1.6001, -1.5959],\n",
      "        [-1.8227, -1.8283, -1.7797, -1.7931],\n",
      "        [-1.5465, -1.5489, -1.5568, -1.5435]])\n"
     ]
    }
   ],
   "source": [
    "import torch\n",
    "import torch.distributions as dist\n",
    "\n",
    "mean, logstd = torch.rand(4, 1), torch.rand(4, 1)\n",
    "m = dist.Normal(mean, torch.exp(logstd))\n",
    "\n",
    "actions = torch.rand(4)\n",
    "\n",
    "print(actions.shape)\n",
    "print(m.log_prob(actions))"
   ]
  },
  {
   "cell_type": "code",
   "execution_count": 13,
   "id": "classical-steal",
   "metadata": {},
   "outputs": [
    {
     "data": {
      "text/plain": [
       "tensor([-0.7136, -0.7796, -0.7506, -0.8549])"
      ]
     },
     "execution_count": 13,
     "metadata": {},
     "output_type": "execute_result"
    }
   ],
   "source": [
    "softmax = torch.softmax(torch.rand(4, 2), dim=-1)\n",
    "m = dist.Categorical(softmax)\n",
    "\n",
    "actions = torch.zeros(4)\n",
    "m.log_prob(actions)"
   ]
  },
  {
   "cell_type": "code",
   "execution_count": 20,
   "id": "tested-lawrence",
   "metadata": {},
   "outputs": [
    {
     "name": "stdout",
     "output_type": "stream",
     "text": [
      "Help on function orthogonal_ in module torch.nn.init:\n",
      "\n",
      "orthogonal_(tensor, gain=1)\n",
      "    Fills the input `Tensor` with a (semi) orthogonal matrix, as\n",
      "    described in `Exact solutions to the nonlinear dynamics of learning in deep\n",
      "    linear neural networks` - Saxe, A. et al. (2013). The input tensor must have\n",
      "    at least 2 dimensions, and for tensors with more than 2 dimensions the\n",
      "    trailing dimensions are flattened.\n",
      "    \n",
      "    Args:\n",
      "        tensor: an n-dimensional `torch.Tensor`, where :math:`n \\geq 2`\n",
      "        gain: optional scaling factor\n",
      "    \n",
      "    Examples:\n",
      "        >>> w = torch.empty(3, 5)\n",
      "        >>> nn.init.orthogonal_(w)\n",
      "\n"
     ]
    }
   ],
   "source": [
    "import torch.nn.init as init\n",
    "\n",
    "help(init.orthogonal_)"
   ]
  },
  {
   "cell_type": "code",
   "execution_count": 31,
   "id": "higher-allen",
   "metadata": {},
   "outputs": [
    {
     "data": {
      "text/plain": [
       "Parameter containing:\n",
       "tensor([[-0.0398, -0.0235,  0.0484,  ...,  0.0241, -0.0847, -0.0750],\n",
       "        [ 0.1135,  0.0896,  0.1236,  ...,  0.1271, -0.0676,  0.1504],\n",
       "        [-0.0581,  0.1426, -0.1319,  ...,  0.0818, -0.1976,  0.0277],\n",
       "        ...,\n",
       "        [-0.0182,  0.0277, -0.0624,  ...,  0.0183, -0.0043, -0.0287],\n",
       "        [ 0.1094, -0.1087, -0.0748,  ..., -0.0590, -0.0516, -0.0236],\n",
       "        [ 0.0701, -0.0627, -0.0353,  ..., -0.0868,  0.0704, -0.0706]],\n",
       "       requires_grad=True)"
      ]
     },
     "execution_count": 31,
     "metadata": {},
     "output_type": "execute_result"
    }
   ],
   "source": [
    "import torch.nn as nn\n",
    "import math\n",
    "\n",
    "layer1 = nn.Linear(64, 64)\n",
    "layer2 = nn.Linear(64, 64)\n",
    "layer3 = nn.Linear(64, 64)\n",
    "\n",
    "init.orthogonal_(layer1.weight, gain=math.sqrt(2))\n",
    "init.orthogonal_(layer2.weight, gain=math.sqrt(0.5))"
   ]
  },
  {
   "cell_type": "code",
   "execution_count": 32,
   "id": "realistic-appendix",
   "metadata": {},
   "outputs": [
    {
     "data": {
      "image/png": "[encoded data removed]",
      "text/plain": [
       "<Figure size 432x288 with 1 Axes>"
      ]
     },
     "metadata": {
      "needs_background": "light"
     },
     "output_type": "display_data"
    }
   ],
   "source": [
    "import matplotlib.pyplot as plt\n",
    "\n",
    "plt.hist(layer1.weight.data.numpy().ravel())\n",
    "plt.show()"
   ]
  },
  {
   "cell_type": "code",
   "execution_count": 35,
   "id": "norwegian-beginning",
   "metadata": {},
   "outputs": [
    {
     "data": {
      "image/png": "[encoded data removed]",
      "text/plain": [
       "<Figure size 432x288 with 1 Axes>"
      ]
     },
     "metadata": {
      "needs_background": "light"
     },
     "output_type": "display_data"
    }
   ],
   "source": [
    "plt.hist(layer1.weight.data.numpy().ravel(), label='gain: sqrt(2)')\n",
    "plt.hist(layer2.weight.data.numpy().ravel(), label='gain: sqrt(0.5)')\n",
    "plt.legend(loc='lower right')\n",
    "plt.show()"
   ]
  }
 ],
 "metadata": {
  "kernelspec": {
   "display_name": "pytorch_p36",
   "language": "python",
   "name": "pytorch_p36"
  },
  "language_info": {
   "codemirror_mode": {
    "name": "ipython",
    "version": 3
   },
   "file_extension": ".py",
   "mimetype": "text/x-python",
   "name": "python",
   "nbconvert_exporter": "python",
   "pygments_lexer": "ipython3",
   "version": "3.6.10"
  }
 },
 "nbformat": 4,
 "nbformat_minor": 5
}
