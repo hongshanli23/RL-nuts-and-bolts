{
 "cells": [
  {
   "cell_type": "markdown",
   "id": "structured-watershed",
   "metadata": {},
   "source": [
    "## Overview of A2C\n",
    "\n",
    "## Problems with on-policy gradients methods\n",
    "\n",
    "- high variance in training (compared to what?) \n",
    "    * compared to off-policy methods\n",
    "    \n",
    "- sample inefficiency (compared to what? )\n",
    "    * compared to off-policy methods\n",
    "    * a trajectory is sampled / used / then throw away\n",
    "    \n",
    "[Why policy gradient has high variance](https://www.quora.com/Why-does-the-policy-gradient-method-have-a-high-variance)\n",
    "\n",
    "\n",
    "## Problems with off-policy methods\n",
    "- bad samples are hoarded and resued\n",
    "    * on-policy policy gradient methods are leaner (minimalist life-style)\n",
    "    \n",
    "- old samples come from old policy\n",
    "    * to train the current policy, we need importance sampling to correct the distribution\n",
    "    * not easy to do\n",
    "    * so many off-policy methods don't do it\n",
    "\n",
    "We can forget about policy and learn a q-function, but then how do we handle \n",
    "problems with continuous action space?\n",
    "\n",
    "Conclusion: pick your poison. \n",
    "\n",
    "\n",
    "## A2C\n",
    "How A2C solve those common problems of on-policy policy gradient methods\n",
    "\n",
    "- High variance of policy gradient estimate\n",
    "    * parallel env to sample many trajectories \n",
    "- Sample inefficiency\n",
    "    * getting more samples\n",
    "\n",
    "## Additional benefits\n",
    "\n",
    "- More exploration of env\n",
    "- Easy to parallel\n",
    "\n",
    "## How to quantify stability? \n",
    "\n",
    "- Plot gradient, log probability of actions, advantages? \n",
    "    * really depends on the problem. For cartpole, it only takes a few steps to go from a good state to a bad state\n",
    "    * so just become log probabiliy varies a lot does not necessary mean the training is not stable\n",
    "    * For a finite episode problem like CartPole, the average reward for each epsisode seems to be a good measure of stability \n",
    "     \n",
    "But it is not that straightforward to compute moving average of episode rewards, because we have parallel envs: env 1 might end vhile env 2 is still running. If we have only 1 enviroment, then this programming task is reduced\n",
    "to keep tracking of moving average (which well-exercised leetcoder  should know how to do it in O(1) time and O(1) space)"
   ]
  },
  {
   "cell_type": "markdown",
   "id": "partial-error",
   "metadata": {},
   "source": [
    "## Stability\n",
    "\n",
    "1. Why do we want stability?\n",
    "* samples are generated from the policy\n",
    "* bad policy -> bad samples -> bad policy\n",
    "\n",
    "\n",
    "Factors affecting training stability\n",
    "* number of parallel environments\n",
    "* length of a trajectory\n",
    "* gradient \n"
   ]
  },
  {
   "cell_type": "markdown",
   "id": "floral-isolation",
   "metadata": {},
   "source": [
    "## Some debug work"
   ]
  },
  {
   "cell_type": "code",
   "execution_count": null,
   "id": "pressing-watch",
   "metadata": {},
   "outputs": [],
   "source": [
    "!rm ckpt/debug/*\n",
    "!rm log/debug/*"
   ]
  },
  {
   "cell_type": "code",
   "execution_count": 76,
   "id": "historic-sector",
   "metadata": {},
   "outputs": [],
   "source": [
    "!python test.py"
   ]
  },
  {
   "cell_type": "code",
   "execution_count": null,
   "id": "certain-reservoir",
   "metadata": {},
   "outputs": [],
   "source": [
    "!tensorboard --logdir log/debug --bind_all"
   ]
  },
  {
   "cell_type": "markdown",
   "id": "egyptian-chance",
   "metadata": {},
   "source": [
    "## Experiments: impact of number of parallel envs to stability\n",
    "Intuition is more parallel envs increases stability"
   ]
  },
  {
   "cell_type": "code",
   "execution_count": 98,
   "id": "discrete-optimization",
   "metadata": {},
   "outputs": [],
   "source": [
    "from cartpole import a2c\n",
    "\n",
    "h = {\n",
    "    \"n_iters\": 1000,\n",
    "    #\"nenvs\": 16, # to be changed\n",
    "    \"ckpt_interval\": 100,\n",
    "    \"nsteps\" : 30, # length of trajectory\n",
    "    \"entropy_coef\" : 0.01, #1e-4, \n",
    "    \"learning_rate\": 1e-4,\n",
    "    \"p_coef\": 1.0,\n",
    "    \"v_coef\":1.0,\n",
    "    \"gamma\": 0.99,\n",
    "    \"device\": \"cpu\",\n",
    "    \"clip_grad_norm\": False,\n",
    "    #\"ckpt_dir\": 'ckpt/debug', # to be changed \n",
    "    #\"log_dir\": 'log/debug' # to be changed\n",
    "}\n",
    "\n",
    "for nenvs in range(10, 16):\n",
    "    ckpt_dir = f'ckpt/nenv-{nenvs}'\n",
    "    log_dir = f'log/nenv-{nenvs}'\n",
    "    h[\"nenvs\"] = nenvs\n",
    "    h[\"ckpt_dir\"] = ckpt_dir\n",
    "    h[\"log_dir\"] = log_dir\n",
    "    a2c(h)"
   ]
  },
  {
   "cell_type": "code",
   "execution_count": 107,
   "id": "european-demographic",
   "metadata": {},
   "outputs": [],
   "source": [
    "def std(data, key):\n",
    "    \"\"\"compute std of data[key]\"\"\"\n",
    "    arr = [x[1] for x in data[key]]\n",
    "    return np.std(arr)"
   ]
  },
  {
   "cell_type": "code",
   "execution_count": 100,
   "id": "conscious-ordering",
   "metadata": {},
   "outputs": [
    {
     "name": "stdout",
     "output_type": "stream",
     "text": [
      "nenv: 10, std of moving average reward : 38.96572116541833\n",
      "nenv: 11, std of moving average reward : 43.87544792512868\n",
      "nenv: 12, std of moving average reward : 45.152174737019145\n",
      "nenv: 13, std of moving average reward : 42.73620335658786\n",
      "nenv: 14, std of moving average reward : 47.174675219639575\n",
      "nenv: 15, std of moving average reward : 45.26950135037092\n"
     ]
    }
   ],
   "source": [
    "# std of moving average for each experiment\n",
    "import numpy as np\n",
    "\n",
    "for nenv in range(10, 16):\n",
    "    log_dir = f'log/nenv-{nenv}'\n",
    "    logger = Logger(log_dir)\n",
    "    data = logger.load()\n",
    "    res = std(data, 'ma_rew')\n",
    "    print(f\"nenv: {nenv}, std of moving average reward : {res}\")"
   ]
  },
  {
   "cell_type": "code",
   "execution_count": 101,
   "id": "pleasant-timothy",
   "metadata": {},
   "outputs": [
    {
     "name": "stdout",
     "output_type": "stream",
     "text": [
      "nenv: 10, std of log probability of actions : 0.03559497094184473\n",
      "nenv: 11, std of log probability of actions : 0.03752836136908005\n",
      "nenv: 12, std of log probability of actions : 0.03567263716485237\n",
      "nenv: 13, std of log probability of actions : 0.03397460746003187\n",
      "nenv: 14, std of log probability of actions : 0.03964350383657634\n",
      "nenv: 15, std of log probability of actions : 0.03605159749922419\n"
     ]
    }
   ],
   "source": [
    "# std of log probability of actions\n",
    "\n",
    "for nenv in range(10, 16):\n",
    "    log_dir = f'log/nenv-{nenv}'\n",
    "    logger = Logger(log_dir)\n",
    "    data = logger.load()\n",
    "    res = std(data, 'log_pi_a')\n",
    "    print(f\"nenv: {nenv}, std of log probability of actions : {res}\")"
   ]
  },
  {
   "cell_type": "code",
   "execution_count": 94,
   "id": "turned-reputation",
   "metadata": {},
   "outputs": [
    {
     "name": "stdout",
     "output_type": "stream",
     "text": [
      "nenv: 10, std of loss: 126.65723240246216\n",
      "nenv: 11, std of loss: 126.60126408481901\n",
      "nenv: 12, std of loss: 123.85701479739846\n",
      "nenv: 13, std of loss: 126.65860444875733\n",
      "nenv: 14, std of loss: 117.70909187803315\n",
      "nenv: 15, std of loss: 125.34906857995779\n"
     ]
    }
   ],
   "source": [
    "# std of loss\n",
    "\n",
    "for nenv in range(10, 16):\n",
    "    log_dir = f'log/nenv-{nenv}'\n",
    "    logger = Logger(log_dir)\n",
    "    data = logger.load()\n",
    "    res = std(data, 'loss')\n",
    "    print(f\"nenv: {nenv}, std of loss: {res}\")"
   ]
  },
  {
   "cell_type": "markdown",
   "id": "approved-provision",
   "metadata": {},
   "source": [
    "## N && B: a few techniques to make training is stable"
   ]
  },
  {
   "cell_type": "markdown",
   "id": "exclusive-elements",
   "metadata": {},
   "source": [
    "## Clip gradients or not"
   ]
  },
  {
   "cell_type": "code",
   "execution_count": 102,
   "id": "primary-comment",
   "metadata": {},
   "outputs": [],
   "source": [
    "\n",
    "\n",
    "from cartpole import a2c\n",
    "\n",
    "h = {\n",
    "    \"n_iters\": 1000,\n",
    "    \"nenvs\": 16, # to be changed\n",
    "    \"ckpt_interval\": 10,\n",
    "    \"nsteps\" : 30, # length of trajectory\n",
    "    \"entropy_coef\" : 0.01, #1e-4, \n",
    "    \"learning_rate\": 1e-4,\n",
    "    \"p_coef\": 1.0,\n",
    "    \"v_coef\":1.0,\n",
    "    \"gamma\": 0.99,\n",
    "    \"device\": \"cpu\",\n",
    "    #\"clip_grad_norm\": False,\n",
    "    #\"ckpt_dir\": 'ckpt/debug', # to be changed \n",
    "    #\"log_dir\": 'log/debug' # to be changed\n",
    "}\n",
    "\n",
    "for opt in [True, False]:\n",
    "    h['clip_grad_norm'] = opt\n",
    "    h['ckpt_dir'] = f'ckpt/clip-grad-{opt}'\n",
    "    h['log_dir'] = f'log/clip-grad-{opt}'\n",
    "    #a2c(h)"
   ]
  },
  {
   "cell_type": "markdown",
   "id": "perfect-tongue",
   "metadata": {},
   "source": [
    "### Std of moving average reward "
   ]
  },
  {
   "cell_type": "code",
   "execution_count": 108,
   "id": "another-montana",
   "metadata": {},
   "outputs": [
    {
     "name": "stdout",
     "output_type": "stream",
     "text": [
      "clip gradient: True, std of ma reward: 31.566684395435963\n",
      "clip gradient: False, std of ma reward: 46.7627088209243\n"
     ]
    }
   ],
   "source": [
    "for opt in [True, False]:\n",
    "    log_dir = f'log/clip-grad-{opt}'\n",
    "    logger = Logger(log_dir)\n",
    "    data = logger.load()\n",
    "    res = std(data, 'ma_rew')\n",
    "    print(f\"clip gradient: {opt}, std of ma reward: {res}\")"
   ]
  },
  {
   "cell_type": "markdown",
   "id": "demanding-approach",
   "metadata": {},
   "source": [
    "### Std of loss"
   ]
  },
  {
   "cell_type": "code",
   "execution_count": 109,
   "id": "surrounded-whale",
   "metadata": {},
   "outputs": [
    {
     "name": "stdout",
     "output_type": "stream",
     "text": [
      "clip gradient: True, std of loss: 87.75686626245346\n",
      "clip gradient: False, std of loss: 128.1899696474328\n"
     ]
    }
   ],
   "source": [
    "for opt in [True, False]:\n",
    "    log_dir = f'log/clip-grad-{opt}'\n",
    "    logger = Logger(log_dir)\n",
    "    data = logger.load()\n",
    "    res = std(data, 'loss')\n",
    "    print(f\"clip gradient: {opt}, std of loss: {res}\")"
   ]
  },
  {
   "cell_type": "markdown",
   "id": "stainless-thesis",
   "metadata": {},
   "source": [
    "## Length of each trajectory\n",
    "One trajectory (from parallel env) is used for one step policy and value iteration. Intuitively, longer trajectory helps the agent to learn the long term benefit of its action. \n",
    "\n",
    "* Longer trajectory makes training more stable\n",
    "* Longer trajectory makes the agent learn faster\n",
    "* Effect of a bad action can only surface after a few steps. "
   ]
  },
  {
   "cell_type": "code",
   "execution_count": 111,
   "id": "common-potato",
   "metadata": {},
   "outputs": [],
   "source": [
    "h = {\n",
    "    \"n_iters\": 1000,\n",
    "    \"nenvs\": 16, # to be changed\n",
    "    \"ckpt_interval\": 10,\n",
    "    #\"nsteps\" : 30, # length of trajectory\n",
    "    \"entropy_coef\" : 0.01, #1e-4, \n",
    "    \"learning_rate\": 1e-4,\n",
    "    \"p_coef\": 1.0,\n",
    "    \"v_coef\":1.0,\n",
    "    \"gamma\": 0.99,\n",
    "    \"device\": \"cpu\",\n",
    "    \"clip_grad_norm\": True,\n",
    "    #\"ckpt_dir\": 'ckpt/debug', # to be changed \n",
    "    #\"log_dir\": 'log/debug' # to be changed\n",
    "}\n",
    "\n",
    "for nsteps in range(5, 31):\n",
    "    h[\"nsteps\"] = nsteps\n",
    "    h['ckpt_dir'] = f'ckpt/nsteps-{nsteps}'\n",
    "    h['log_dir'] = f'log/nsteps-{nsteps}'\n",
    "    #a2c(h)"
   ]
  },
  {
   "cell_type": "code",
   "execution_count": 120,
   "id": "greater-tradition",
   "metadata": {},
   "outputs": [
    {
     "name": "stdout",
     "output_type": "stream",
     "text": [
      "trajectory length: 5 | std of ma reward: 6.206312381559107\n",
      "trajectory length: 6 | std of ma reward: 6.7941367262294765\n",
      "trajectory length: 7 | std of ma reward: 11.88877426088386\n",
      "trajectory length: 8 | std of ma reward: 12.65766606890771\n",
      "trajectory length: 9 | std of ma reward: 12.049337735996671\n",
      "trajectory length: 10 | std of ma reward: 14.811946064503886\n",
      "trajectory length: 11 | std of ma reward: 16.305581726869427\n",
      "trajectory length: 12 | std of ma reward: 20.12604333236117\n",
      "trajectory length: 13 | std of ma reward: 15.68693050207474\n",
      "trajectory length: 14 | std of ma reward: 22.111985664898228\n",
      "trajectory length: 15 | std of ma reward: 19.667176656598706\n",
      "trajectory length: 16 | std of ma reward: 22.924070967874297\n",
      "trajectory length: 17 | std of ma reward: 24.94240039339594\n",
      "trajectory length: 18 | std of ma reward: 25.832477444081537\n",
      "trajectory length: 19 | std of ma reward: 27.05817743367623\n",
      "trajectory length: 20 | std of ma reward: 26.653663867526497\n",
      "trajectory length: 21 | std of ma reward: 24.835131565403454\n",
      "trajectory length: 22 | std of ma reward: 27.88279425568999\n",
      "trajectory length: 23 | std of ma reward: 28.367172789208418\n",
      "trajectory length: 24 | std of ma reward: 24.42656539757199\n",
      "trajectory length: 25 | std of ma reward: 30.38063516748396\n",
      "trajectory length: 26 | std of ma reward: 31.277589413527796\n",
      "trajectory length: 27 | std of ma reward: 31.685631787430765\n",
      "trajectory length: 28 | std of ma reward: 27.618030052540696\n",
      "trajectory length: 29 | std of ma reward: 28.184460387056014\n",
      "trajectory length: 30 | std of ma reward: 28.69954193210446\n"
     ]
    }
   ],
   "source": [
    "# std of moving average reward\n",
    "\n",
    "for nsteps in range(5, 31):\n",
    "    log_dir = f'log/nsteps-{nsteps}'\n",
    "    logger = Logger(log_dir)\n",
    "    data = logger.load()\n",
    "    res = std(data, 'ma_rew')\n",
    "    print(f'trajectory length: {nsteps} | std of ma reward: {res}')"
   ]
  },
  {
   "cell_type": "markdown",
   "id": "biological-value",
   "metadata": {},
   "source": [
    "# Oops! Pitfall\n",
    "\n",
    "I guess I was implicitly thinking that higher reward and stability are positively correlated, because they are both desirable. \n",
    "\n",
    "Randomness\n",
    "* randomness of the env\n",
    "* randomess of action (sampled from prob)\n",
    "\n",
    "This means\n",
    "* Longer trajectory has \"more randomness\"\n",
    "* => longer trajectory incurs a higher variance\n"
   ]
  },
  {
   "cell_type": "code",
   "execution_count": 115,
   "id": "unexpected-encounter",
   "metadata": {},
   "outputs": [
    {
     "name": "stdout",
     "output_type": "stream",
     "text": [
      "trajectory length: 5 std of loss: 15.95312442503258\n",
      "trajectory length: 6 std of loss: 27.050928839895633\n",
      "trajectory length: 7 std of loss: 25.569796520339374\n",
      "trajectory length: 8 std of loss: 23.259475564346605\n",
      "trajectory length: 9 std of loss: 27.114428326483672\n",
      "trajectory length: 10 std of loss: 30.20247197956925\n",
      "trajectory length: 11 std of loss: 38.41508256160848\n",
      "trajectory length: 12 std of loss: 49.422973096028386\n",
      "trajectory length: 13 std of loss: 42.26107678619629\n",
      "trajectory length: 14 std of loss: 57.51039843141428\n",
      "trajectory length: 15 std of loss: 51.04221888132379\n",
      "trajectory length: 16 std of loss: 62.58077858350786\n",
      "trajectory length: 17 std of loss: 66.96665101645331\n",
      "trajectory length: 18 std of loss: 66.97736167957794\n",
      "trajectory length: 19 std of loss: 76.10777375961906\n",
      "trajectory length: 20 std of loss: 75.51169820482042\n",
      "trajectory length: 21 std of loss: 67.49711880268305\n",
      "trajectory length: 22 std of loss: 75.16493681600943\n",
      "trajectory length: 23 std of loss: 74.21857834956097\n",
      "trajectory length: 24 std of loss: 70.48070160844658\n",
      "trajectory length: 25 std of loss: 88.83350108945598\n",
      "trajectory length: 26 std of loss: 89.1579255679235\n",
      "trajectory length: 27 std of loss: 82.21110429785736\n",
      "trajectory length: 28 std of loss: 78.36282909169032\n",
      "trajectory length: 29 std of loss: 88.01356780466357\n",
      "trajectory length: 30 std of loss: 82.05633115208828\n"
     ]
    }
   ],
   "source": [
    "# std of loss\n",
    "\n",
    "for nsteps in range(5, 31):\n",
    "    log_dir = f'log/nsteps-{nsteps}'\n",
    "    logger = Logger(log_dir)\n",
    "    data = logger.load()\n",
    "    res = std(data, 'loss')\n",
    "    print(f'trajectory length: {nsteps}', f'std of loss: {res}')"
   ]
  },
  {
   "cell_type": "code",
   "execution_count": 121,
   "id": "dressed-increase",
   "metadata": {},
   "outputs": [
    {
     "name": "stdout",
     "output_type": "stream",
     "text": [
      "trajectory length: 5 std of adv: 1.2608268788123396\n",
      "trajectory length: 6 std of adv: 1.5251485703363248\n",
      "trajectory length: 7 std of adv: 1.4852788971378308\n",
      "trajectory length: 8 std of adv: 1.5448067042383975\n",
      "trajectory length: 9 std of adv: 1.8090801431709604\n",
      "trajectory length: 10 std of adv: 1.7357480356143165\n",
      "trajectory length: 11 std of adv: 2.0372059369785824\n",
      "trajectory length: 12 std of adv: 2.1565931216087257\n",
      "trajectory length: 13 std of adv: 2.2502100934415523\n",
      "trajectory length: 14 std of adv: 2.2822920096137005\n",
      "trajectory length: 15 std of adv: 2.357039214276123\n",
      "trajectory length: 16 std of adv: 2.5615997374533688\n",
      "trajectory length: 17 std of adv: 2.5606363888938106\n",
      "trajectory length: 18 std of adv: 2.6407756721965017\n",
      "trajectory length: 19 std of adv: 2.8086783766190107\n",
      "trajectory length: 20 std of adv: 2.871514971747077\n",
      "trajectory length: 21 std of adv: 2.795736732860649\n",
      "trajectory length: 22 std of adv: 2.8621769379317827\n",
      "trajectory length: 23 std of adv: 2.8838695771115392\n",
      "trajectory length: 24 std of adv: 3.080788221664063\n",
      "trajectory length: 25 std of adv: 3.0134984435572294\n",
      "trajectory length: 26 std of adv: 3.0386913909370876\n",
      "trajectory length: 27 std of adv: 3.153793838496613\n",
      "trajectory length: 28 std of adv: 3.094768528985399\n",
      "trajectory length: 29 std of adv: 3.2609970622816493\n",
      "trajectory length: 30 std of adv: 3.276291629418475\n"
     ]
    }
   ],
   "source": [
    "# std of adv\n",
    "\n",
    "for nsteps in range(5, 31):\n",
    "    log_dir = f'log/nsteps-{nsteps}'\n",
    "    logger = Logger(log_dir)\n",
    "    data = logger.load()\n",
    "    res = std(data, 'adv')\n",
    "    print(f'trajectory length: {nsteps}', f'std of adv: {res}')"
   ]
  },
  {
   "cell_type": "code",
   "execution_count": 117,
   "id": "parental-think",
   "metadata": {},
   "outputs": [
    {
     "name": "stdout",
     "output_type": "stream",
     "text": [
      "trajectory length: 5, last ma reward 32.723724365234375\n",
      "trajectory length: 6, last ma reward 30.767850875854492\n",
      "trajectory length: 7, last ma reward 70.91400146484375\n",
      "trajectory length: 8, last ma reward 67.55679321289062\n",
      "trajectory length: 9, last ma reward 76.67071533203125\n",
      "trajectory length: 10, last ma reward 88.3529281616211\n",
      "trajectory length: 11, last ma reward 56.044403076171875\n",
      "trajectory length: 12, last ma reward 85.94941711425781\n",
      "trajectory length: 13, last ma reward 80.94585418701172\n",
      "trajectory length: 14, last ma reward 96.23628234863281\n",
      "trajectory length: 15, last ma reward 84.31098175048828\n",
      "trajectory length: 16, last ma reward 115.69566345214844\n",
      "trajectory length: 17, last ma reward 115.28688049316406\n",
      "trajectory length: 18, last ma reward 122.9968490600586\n",
      "trajectory length: 19, last ma reward 104.73279571533203\n",
      "trajectory length: 20, last ma reward 104.3149642944336\n",
      "trajectory length: 21, last ma reward 123.93647766113281\n",
      "trajectory length: 22, last ma reward 124.37062072753906\n",
      "trajectory length: 23, last ma reward 109.558837890625\n",
      "trajectory length: 24, last ma reward 111.16752624511719\n",
      "trajectory length: 25, last ma reward 120.23048400878906\n",
      "trajectory length: 26, last ma reward 117.12339782714844\n",
      "trajectory length: 27, last ma reward 113.77822875976562\n",
      "trajectory length: 28, last ma reward 92.52961730957031\n",
      "trajectory length: 29, last ma reward 115.61091613769531\n",
      "trajectory length: 30, last ma reward 86.54060363769531\n"
     ]
    }
   ],
   "source": [
    "# moving average of the reward\n",
    "# at the end of the training\n",
    "\n",
    "for nsteps in range(5, 31):\n",
    "    log_dir = f'log/nsteps-{nsteps}'\n",
    "    logger = Logger(log_dir)\n",
    "    data = logger.load()\n",
    "    res = data['ma_rew'][-1][1]\n",
    "    print(f\"trajectory length: {nsteps}, last ma reward {res}\")"
   ]
  },
  {
   "cell_type": "markdown",
   "id": "elect-endorsement",
   "metadata": {},
   "source": [
    "Our intuition seems to be right here. "
   ]
  },
  {
   "cell_type": "markdown",
   "id": "instrumental-facing",
   "metadata": {},
   "source": [
    "## clip output of critic\n",
    "If the output of critic has too much variance, then it defies the purpose of using a critic for actor-critic flavored algorithm."
   ]
  },
  {
   "cell_type": "markdown",
   "id": "general-afghanistan",
   "metadata": {},
   "source": [
    "## N && B: encourage exploration\n",
    "\n",
    "* policy gradient methods are already exploratory, actions are sampled from action distribution rather than greedy\n",
    "* want to avoid agent converge (over-confident) in the early stage\n",
    "* want to make entropy of action distribution higher in the early stage \n",
    "* different random seed for each env\n",
    "* start the env with some random actions\n",
    "\n",
    "\n",
    "### Entropy\n",
    "Entropy is baked into the loss\n",
    "\n",
    "Let $\\tau$ be a sample trajectory, $\\alpha$ entropy coeff (temperature)\n",
    "\n",
    "$\\sum $ means $\\sum_{s_i, a_i \\in \\tau}$\n",
    "\n",
    "$$\n",
    "Loss(\\tau) = - \\frac{1}{N} \\sum\\log \\pi(a_i|s_i) A(a_i, s_i)  + \\frac{1}{N}\\sum|Q(a_i, s_i) - V(s_i) |^2 + \\frac{1}{N}\\alpha \\sum \\entropy(\\pi(\\cdot | s_i))\n",
    "$$\n",
    "\n",
    "Better exploration correlated with better rewards"
   ]
  },
  {
   "cell_type": "code",
   "execution_count": 129,
   "id": "stretch-function",
   "metadata": {},
   "outputs": [],
   "source": [
    "\n",
    "h = {\n",
    "    \"n_iters\": 1000,\n",
    "    \"nenvs\": 16, # to be changed\n",
    "    \"ckpt_interval\": 10,\n",
    "    \"nsteps\" : 30, # length of trajectory\n",
    "    #\"entropy_coef\" : 0, \n",
    "    \"learning_rate\": 1e-4,\n",
    "    \"p_coef\": 1.0,\n",
    "    \"v_coef\":1.0,\n",
    "    \"gamma\": 0.99,\n",
    "    \"device\": \"cpu\",\n",
    "    \"clip_grad_norm\": True,\n",
    "    #\"ckpt_dir\": 'ckpt/debug', # to be changed \n",
    "    #\"log_dir\": 'log/debug' # to be changed\n",
    "}\n",
    "\n",
    "\n",
    "for entropy_coef in [0, 0.01, 0.1]:\n",
    "    ckpt_dir =f'ckpt/entropy-coef-{entropy_coef}'\n",
    "    log_dir = f'log/entropy-coef-{entropy_coef}'\n",
    "    h['entropy_coef'] = entropy_coef\n",
    "    h['ckpt_dir'] = ckpt_dir\n",
    "    h['log_dir'] = log_dir\n",
    "    a2c(h)"
   ]
  },
  {
   "cell_type": "code",
   "execution_count": null,
   "id": "loved-river",
   "metadata": {},
   "outputs": [],
   "source": []
  },
  {
   "cell_type": "code",
   "execution_count": 135,
   "id": "sacred-refund",
   "metadata": {},
   "outputs": [
    {
     "name": "stdout",
     "output_type": "stream",
     "text": [
      "entropy coef: 0, average reward 72.5942310142517\n",
      "entropy coef: 0.1, average reward 64.95612062072755\n",
      "entropy coef: 0.01, average reward 71.91440085220337\n"
     ]
    }
   ],
   "source": [
    "# compare the rewards of experiements with\n",
    "# different entropy coefficient\n",
    "for ec in [0, 0.1, 0.01]:\n",
    "    log_dir = f'log/entropy-coef-{ec}'\n",
    "    data = Logger(log_dir).load()\n",
    "    avg_reward = [x[1] for x in data['ma_rew']]\n",
    "    print(f\"entropy coef: {ec}, average reward {sum(avg_reward) / len(avg_reward)}\")"
   ]
  },
  {
   "cell_type": "code",
   "execution_count": 144,
   "id": "external-lender",
   "metadata": {},
   "outputs": [
    {
     "name": "stdout",
     "output_type": "stream",
     "text": [
      "entropy coef: 0, average reward 125.38384674072266\n",
      "entropy coef: 0.1, average reward 113.5899333190918\n",
      "entropy coef: 0.01, average reward 123.38497283935547\n"
     ]
    }
   ],
   "source": [
    "# average reward at latter stage of training\n",
    "for ec in [0, 0.1, 0.01]:\n",
    "    log_dir = f'log/entropy-coef-{ec}'\n",
    "    data = Logger(log_dir).load()\n",
    "    avg_reward = [x[1] for x in data['ma_rew']][-100:]\n",
    "    print(f\"entropy coef: {ec}, average reward {sum(avg_reward) / len(avg_reward)}\")"
   ]
  },
  {
   "cell_type": "code",
   "execution_count": 140,
   "id": "broad-spiritual",
   "metadata": {},
   "outputs": [
    {
     "data": {
      "text/plain": [
       "<algo.Agent at 0x7f0c3446e2b0>"
      ]
     },
     "execution_count": 140,
     "metadata": {},
     "output_type": "execute_result"
    }
   ],
   "source": [
    "# linearly decay entropy coefficient\n",
    "\n",
    "\n",
    "h = {\n",
    "    \"n_iters\": 1000,\n",
    "    \"nenvs\": 16, # to be changed\n",
    "    \"ckpt_interval\": 10,\n",
    "    \"nsteps\" : 30, # length of trajectory\n",
    "    \"entropy_coef\" : 0.1, \n",
    "    \"learning_rate\": 1e-4,\n",
    "    \"p_coef\": 1.0,\n",
    "    \"v_coef\":1.0,\n",
    "    \"gamma\": 0.99,\n",
    "    \"device\": \"cpu\",\n",
    "    \"clip_grad_norm\": True,\n",
    "    #\"ckpt_dir\": 'ckpt/debug', # to be changed \n",
    "    #\"log_dir\": 'log/debug' # to be changed\n",
    "}\n",
    "\n",
    "def entropy_decay_fn(curr_coef, n_iter):\n",
    "    return -(0.1/1000.0) * n_iter + 0.1\n",
    "\n",
    "ckpt_dir = 'ckpt/entropy-decay'\n",
    "log_dir = 'ckpt/entropy-decay'\n",
    "h['ckpt_dir'] = ckpt_dir \n",
    "h['log_dir'] = log_dir\n",
    "\n",
    "decay_fn = {\"entropy_coef\": entropy_decay_fn}\n",
    "\n",
    "a2c(h, decay_fn)"
   ]
  },
  {
   "cell_type": "code",
   "execution_count": 143,
   "id": "fitting-emission",
   "metadata": {},
   "outputs": [
    {
     "name": "stdout",
     "output_type": "stream",
     "text": [
      "with entropy decay, average reward 63.838873136520384\n"
     ]
    }
   ],
   "source": [
    "og_dir = 'ckpt/entropy-decay'\n",
    "data = Logger(log_dir).load()\n",
    "avg_reward = [x[1] for x in data['ma_rew']]\n",
    "print(f\"with entropy decay, average reward {sum(avg_reward) / len(avg_reward)}\")"
   ]
  },
  {
   "cell_type": "code",
   "execution_count": 145,
   "id": "olive-divide",
   "metadata": {},
   "outputs": [
    {
     "name": "stdout",
     "output_type": "stream",
     "text": [
      "with entropy decay, average reward 123.38497283935547\n"
     ]
    }
   ],
   "source": [
    "# later stage of training\n",
    "og_dir = 'ckpt/entropy-decay'\n",
    "data = Logger(log_dir).load()\n",
    "avg_reward = [x[1] for x in data['ma_rew']][-100:]\n",
    "print(f\"with entropy decay, average reward {sum(avg_reward) / len(avg_reward)}\")"
   ]
  },
  {
   "cell_type": "markdown",
   "id": "preliminary-basket",
   "metadata": {},
   "source": [
    "## N && B: check if critic is learning anything by viewing the estimate of initial state\n",
    "\n",
    "For Cartpole, the initial state should have have high value (for a trained agent), so we can evalutate critic by \n"
   ]
  },
  {
   "cell_type": "code",
   "execution_count": 166,
   "id": "ruled-armor",
   "metadata": {},
   "outputs": [
    {
     "data": {
      "text/plain": [
       "<algo.Agent at 0x7f0c34635780>"
      ]
     },
     "execution_count": 166,
     "metadata": {},
     "output_type": "execute_result"
    }
   ],
   "source": [
    "h = {\n",
    "    \"n_iters\": 1000,\n",
    "    \"nenvs\": 16, # to be changed\n",
    "    \"ckpt_interval\": 100,\n",
    "    \"nsteps\" : 30, # length of trajectory\n",
    "    \"entropy_coef\" : 0., \n",
    "    \"learning_rate\": 1e-4,\n",
    "    \"p_coef\": 1.0,\n",
    "    \"v_coef\":1.0,\n",
    "    \"gamma\": 0.99,\n",
    "    \"device\": \"cpu\",\n",
    "    \"clip_grad_norm\": True,\n",
    "    \"evalute_critic\": True\n",
    "    #\"ckpt_dir\": 'ckpt/debug', # to be changed \n",
    "    #\"log_dir\": 'log/debug' # to be changed\n",
    "}\n",
    "\n",
    "ckpt_dir = 'ckpt/evaluate-critic'\n",
    "log_dir = 'log/evaluate-critic'\n",
    "h['ckpt_dir'] = ckpt_dir \n",
    "h['log_dir'] = log_dir\n",
    "\n",
    "a2c(h)"
   ]
  },
  {
   "cell_type": "code",
   "execution_count": 184,
   "id": "comparable-discussion",
   "metadata": {},
   "outputs": [
    {
     "data": {
      "text/plain": [
       "Text(0, 0.5, 'estimate of initial state')"
      ]
     },
     "execution_count": 184,
     "metadata": {},
     "output_type": "execute_result"
    },
    {
     "data": {
      "image/png": "[encoded data removed]",
      "text/plain": [
       "<Figure size 432x288 with 1 Axes>"
      ]
     },
     "metadata": {
      "needs_background": "light"
     },
     "output_type": "display_data"
    }
   ],
   "source": [
    "import matplotlib.pyplot as plt\n",
    "\n",
    "log_dir = 'log/evaluate-critic'\n",
    "init_state_estimate = Logger(log_dir).load()['init_state_estimate']\n",
    "init_state_estimate = [x[1] for x in init_state_estimate]\n",
    "\n",
    "plt.plot(init_state_estimate)\n",
    "plt.xlabel('steps')\n",
    "plt.ylabel('estimate of initial state')"
   ]
  },
  {
   "cell_type": "markdown",
   "id": "vietnamese-reality",
   "metadata": {},
   "source": [
    "## N && B: policy net and value net initialization\n",
    "\n",
    "orthogonal initiazation\n",
    "\n",
    "[provable benefit of orthogonal init](https://openreview.net/pdf?id=rkgqN1SYvr)"
   ]
  },
  {
   "cell_type": "markdown",
   "id": "suburban-officer",
   "metadata": {},
   "source": [
    "## N && B: separate backbone or 1 backbone\n",
    "Just try it"
   ]
  },
  {
   "cell_type": "markdown",
   "id": "established-quantity",
   "metadata": {},
   "source": [
    "## N && B: when something is wrong, look at what the policy is doing\n",
    "The agent seems to not be able to "
   ]
  },
  {
   "cell_type": "code",
   "execution_count": 1,
   "id": "rocky-course",
   "metadata": {},
   "outputs": [],
   "source": [
    "import matplotlib.pyplot as plt\n",
    "%matplotlib inline\n",
    "from IPython import display\n",
    "import gym\n",
    "\n",
    "def show_state(env, step=0, info=\"\"):\n",
    "    plt.figure(3)\n",
    "    plt.clf()\n",
    "    plt.imshow(env.render(mode='rgb_array'))\n",
    "    plt.axis('off')\n",
    "\n",
    "    display.clear_output(wait=True)\n",
    "    display.display(plt.gcf())\n",
    "    return\n"
   ]
  },
  {
   "cell_type": "code",
   "execution_count": 12,
   "id": "coral-worker",
   "metadata": {},
   "outputs": [
    {
     "data": {
      "image/png": "[encoded data removed]",
      "text/plain": [
       "<Figure size 432x288 with 1 Axes>"
      ]
     },
     "metadata": {},
     "output_type": "display_data"
    },
    {
     "name": "stdout",
     "output_type": "stream",
     "text": [
      "Episode finished after 194 timesteps\n"
     ]
    },
    {
     "data": {
      "text/plain": [
       "<Figure size 432x288 with 0 Axes>"
      ]
     },
     "metadata": {},
     "output_type": "display_data"
    }
   ],
   "source": [
    "from algo import Agent\n",
    "from model import MLPSingleArch\n",
    "\n",
    "h = {\n",
    "    \"n_iters\": 1000,\n",
    "    \"nenvs\": 16, # to be changed\n",
    "    \"ckpt_interval\": 100,\n",
    "    \"nsteps\" : 10, # length of trajectory\n",
    "    \"entropy_coef\" : 0., \n",
    "    \"learning_rate\": 1e-4,\n",
    "    \"p_coef\": 1.0,\n",
    "    \"v_coef\":1.0,\n",
    "    \"gamma\": 0.99,\n",
    "    \"device\": \"cpu\",\n",
    "    \"clip_grad_norm\": True,\n",
    "    \"evalute_critic\": True\n",
    "    #\"ckpt_dir\": 'ckpt/debug', # to be changed \n",
    "    #\"log_dir\": 'log/debug' # to be changed\n",
    "}\n",
    "\n",
    "\n",
    "env = gym.make('CartPole-v0').unwrapped\n",
    "observation = env.reset()\n",
    "\n",
    "agent = Agent(\n",
    "    model = MLPSingleArch(\n",
    "        input_dim = env.observation_space.shape[0],\n",
    "        n_actions=env.action_space.n\n",
    "    ), h=h)\n",
    "\n",
    "agent.resume('ckpt/nsteps-7/ckpt-999.pt')\n",
    "    \n",
    "for t in range(1000):\n",
    "    action = agent.take_action(observation, greedy=True)\n",
    "    show_state(env, t)\n",
    "    observation, reward, done, info = env.step(action[0])\n",
    "    if done:\n",
    "        print(\"Episode finished after {} timesteps\".format(t+1))\n",
    "        plt.clf()\n",
    "        break"
   ]
  },
  {
   "cell_type": "code",
   "execution_count": 14,
   "id": "united-function",
   "metadata": {},
   "outputs": [
    {
     "data": {
      "image/png": "[encoded data removed]",
      "text/plain": [
       "<Figure size 432x288 with 1 Axes>"
      ]
     },
     "metadata": {},
     "output_type": "display_data"
    },
    {
     "name": "stdout",
     "output_type": "stream",
     "text": [
      "Episode finished after 229 timesteps\n"
     ]
    },
    {
     "data": {
      "text/plain": [
       "<Figure size 432x288 with 0 Axes>"
      ]
     },
     "metadata": {},
     "output_type": "display_data"
    }
   ],
   "source": [
    "env = gym.make('CartPole-v0').unwrapped\n",
    "observation = env.reset()\n",
    "\n",
    "agent = Agent(\n",
    "    model = MLPSingleArch(\n",
    "        input_dim = env.observation_space.shape[0],\n",
    "        n_actions=env.action_space.n\n",
    "    ), h=h)\n",
    "\n",
    "agent.resume('ckpt/nsteps-29/ckpt-999.pt')\n",
    "    \n",
    "for t in range(1000):\n",
    "    action = agent.take_action(observation, greedy=True)\n",
    "    show_state(env, t)\n",
    "    observation, reward, done, info = env.step(action[0])\n",
    "    if done:\n",
    "        print(\"Episode finished after {} timesteps\".format(t+1))\n",
    "        plt.clf()\n",
    "        break"
   ]
  },
  {
   "cell_type": "code",
   "execution_count": 17,
   "id": "pending-dialogue",
   "metadata": {},
   "outputs": [
    {
     "data": {
      "image/png": "[encoded data removed]",
      "text/plain": [
       "<Figure size 432x288 with 1 Axes>"
      ]
     },
     "metadata": {},
     "output_type": "display_data"
    },
    {
     "name": "stdout",
     "output_type": "stream",
     "text": [
      "Episode finished after 1251 timesteps\n"
     ]
    },
    {
     "data": {
      "text/plain": [
       "<Figure size 432x288 with 0 Axes>"
      ]
     },
     "metadata": {},
     "output_type": "display_data"
    }
   ],
   "source": [
    "env = gym.make('CartPole-v0').unwrapped\n",
    "observation = env.reset()\n",
    "\n",
    "agent = Agent(\n",
    "    model = MLPSingleArch(\n",
    "        input_dim = env.observation_space.shape[0],\n",
    "        n_actions=env.action_space.n\n",
    "    ), h=h)\n",
    "\n",
    "agent.resume('ckpt/nsteps-10/ckpt-999.pt')\n",
    "    \n",
    "for t in range(1500):\n",
    "    action = agent.take_action(observation, greedy=True)\n",
    "    show_state(env, t)\n",
    "    observation, reward, done, info = env.step(action[0])\n",
    "    if done:\n",
    "        print(\"Episode finished after {} timesteps\".format(t+1))\n",
    "        plt.clf()\n",
    "        break\n",
    "plt.clf()"
   ]
  }
 ],
 "metadata": {
  "kernelspec": {
   "display_name": "Environment (conda_pytorch_p36)",
   "language": "python",
   "name": "conda_pytorch_p36"
  },
  "language_info": {
   "codemirror_mode": {
    "name": "ipython",
    "version": 3
   },
   "file_extension": ".py",
   "mimetype": "text/x-python",
   "name": "python",
   "nbconvert_exporter": "python",
   "pygments_lexer": "ipython3",
   "version": "3.6.10"
  }
 },
 "nbformat": 4,
 "nbformat_minor": 5
}
