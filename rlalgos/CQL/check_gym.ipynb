{
 "cells": [
  {
   "cell_type": "code",
   "execution_count": 2,
   "metadata": {},
   "outputs": [
    {
     "name": "stderr",
     "output_type": "stream",
     "text": [
      "/root/Gymnasium/gymnasium/envs/registration.py:555: UserWarning: \u001b[33mWARN: The environment Ant-v2 is out of date. You should consider upgrading to version `v4`.\u001b[0m\n",
      "  logger.warn(\n",
      "/root/Gymnasium/gymnasium/envs/mujoco/mujoco_env.py:192: UserWarning: \u001b[33mWARN: This version of the mujoco environments depends on the mujoco-py bindings, which are no longer maintained and may stop working. Please upgrade to the v4 versions of the environments (which depend on the mujoco python bindings instead), unless you are trying to precisely replicate previous works).\u001b[0m\n",
      "  logger.warn(\n",
      "/root/Gymnasium/gymnasium/wrappers/record_video.py:79: UserWarning: \u001b[33mWARN: Overwriting existing videos at /work/gym_results folder (try specifying a different `video_folder` for the `RecordVideo` wrapper if this is not desired)\u001b[0m\n",
      "  logger.warn(\n"
     ]
    },
    {
     "name": "stdout",
     "output_type": "stream",
     "text": [
      "Saving vidoe\n",
      "Moviepy - Building video /work/gym_results/ant-episode-0.mp4.\n",
      "Moviepy - Writing video /work/gym_results/ant-episode-0.mp4\n",
      "\n"
     ]
    },
    {
     "name": "stderr",
     "output_type": "stream",
     "text": [
      "                                                             \r"
     ]
    },
    {
     "name": "stdout",
     "output_type": "stream",
     "text": [
      "Moviepy - Done !\n",
      "Moviepy - video ready /work/gym_results/ant-episode-0.mp4\n",
      "Saving vidoe\n",
      "Moviepy - Building video /work/gym_results/ant-episode-1.mp4.\n",
      "Moviepy - Writing video /work/gym_results/ant-episode-1.mp4\n",
      "\n"
     ]
    },
    {
     "name": "stderr",
     "output_type": "stream",
     "text": [
      "                                                              \r"
     ]
    },
    {
     "name": "stdout",
     "output_type": "stream",
     "text": [
      "Moviepy - Done !\n",
      "Moviepy - video ready /work/gym_results/ant-episode-1.mp4\n",
      "Saving vidoe\n",
      "Moviepy - Building video /work/gym_results/ant-episode-8.mp4.\n",
      "Moviepy - Writing video /work/gym_results/ant-episode-8.mp4\n",
      "\n"
     ]
    },
    {
     "name": "stderr",
     "output_type": "stream",
     "text": [
      "                                                               \r"
     ]
    },
    {
     "name": "stdout",
     "output_type": "stream",
     "text": [
      "Moviepy - Done !\n",
      "Moviepy - video ready /work/gym_results/ant-episode-8.mp4\n"
     ]
    }
   ],
   "source": [
    "import gymnasium\n",
    "import imp\n",
    "\n",
    "\n",
    "import matplotlib.pyplot as plt\n",
    "from IPython import display\n",
    "%matplotlib inline\n",
    "\n",
    "env = gymnasium.make(\"Ant-v2\", render_mode=\"rgb_array\")\n",
    "env.reset()\n",
    "env = gymnasium.wrappers.RecordVideo(env, \"/work/gym_results\", name_prefix=\"ant\")\n",
    "env.start_video_recorder()\n",
    "for i in range(2500):\n",
    "   action = env.action_space.sample()\n",
    "   ob, r, terminated, _, _ = env.step(action) # take a random action\n",
    "   if terminated:\n",
    "      env.reset()\n",
    "\n",
    "env.close()"
   ]
  },
  {
   "cell_type": "code",
   "execution_count": 4,
   "metadata": {},
   "outputs": [
    {
     "data": {
      "text/plain": [
       "(111,)"
      ]
     },
     "execution_count": 4,
     "metadata": {},
     "output_type": "execute_result"
    }
   ],
   "source": [
    "ob.shape"
   ]
  },
  {
   "cell_type": "code",
   "execution_count": 5,
   "metadata": {},
   "outputs": [
    {
     "data": {
      "text/plain": [
       "array([-0.38491368,  0.32784656, -0.90063345,  0.57033134,  0.9470056 ,\n",
       "        0.4826907 , -0.13390027, -0.34416804], dtype=float32)"
      ]
     },
     "execution_count": 5,
     "metadata": {},
     "output_type": "execute_result"
    }
   ],
   "source": [
    "env.action_space.sample()"
   ]
  },
  {
   "cell_type": "code",
   "execution_count": 6,
   "metadata": {},
   "outputs": [
    {
     "name": "stdout",
     "output_type": "stream",
     "text": [
      "Help on Box in module gymnasium.spaces.box object:\n",
      "\n",
      "class Box(gymnasium.spaces.space.Space)\n",
      " |  Box(low: Union[SupportsFloat, numpy.ndarray], high: Union[SupportsFloat, numpy.ndarray], shape: Optional[Sequence[int]] = None, dtype: Type = <class 'numpy.float32'>, seed: Union[int, numpy.random._generator.Generator, NoneType] = None)\n",
      " |  \n",
      " |  A (possibly unbounded) box in :math:`\\mathbb{R}^n`.\n",
      " |  \n",
      " |  Specifically, a Box represents the Cartesian product of n closed intervals.\n",
      " |  Each interval has the form of one of :math:`[a, b]`, :math:`(-\\infty, b]`,\n",
      " |  :math:`[a, \\infty)`, or :math:`(-\\infty, \\infty)`.\n",
      " |  \n",
      " |  There are two common use cases:\n",
      " |  \n",
      " |  * Identical bound for each dimension::\n",
      " |  \n",
      " |      >>> Box(low=-1.0, high=2.0, shape=(3, 4), dtype=np.float32)\n",
      " |      Box(3, 4)\n",
      " |  \n",
      " |  * Independent bound for each dimension::\n",
      " |  \n",
      " |      >>> Box(low=np.array([-1.0, -2.0]), high=np.array([2.0, 4.0]), dtype=np.float32)\n",
      " |      Box(2,)\n",
      " |  \n",
      " |  Method resolution order:\n",
      " |      Box\n",
      " |      gymnasium.spaces.space.Space\n",
      " |      typing.Generic\n",
      " |      builtins.object\n",
      " |  \n",
      " |  Methods defined here:\n",
      " |  \n",
      " |  __eq__(self, other) -> bool\n",
      " |      Check whether `other` is equivalent to this instance. Doesn't check dtype equivalence.\n",
      " |  \n",
      " |  __init__(self, low: Union[SupportsFloat, numpy.ndarray], high: Union[SupportsFloat, numpy.ndarray], shape: Optional[Sequence[int]] = None, dtype: Type = <class 'numpy.float32'>, seed: Union[int, numpy.random._generator.Generator, NoneType] = None)\n",
      " |      Constructor of :class:`Box`.\n",
      " |      \n",
      " |      The argument ``low`` specifies the lower bound of each dimension and ``high`` specifies the upper bounds.\n",
      " |      I.e., the space that is constructed will be the product of the intervals :math:`[\\text{low}[i], \\text{high}[i]]`.\n",
      " |      \n",
      " |      If ``low`` (or ``high``) is a scalar, the lower bound (or upper bound, respectively) will be assumed to be\n",
      " |      this value across all dimensions.\n",
      " |      \n",
      " |      Args:\n",
      " |          low (Union[SupportsFloat, np.ndarray]): Lower bounds of the intervals.\n",
      " |          high (Union[SupportsFloat, np.ndarray]): Upper bounds of the intervals.\n",
      " |          shape (Optional[Sequence[int]]): The shape is inferred from the shape of `low` or `high` `np.ndarray`s with\n",
      " |              `low` and `high` scalars defaulting to a shape of (1,)\n",
      " |          dtype: The dtype of the elements of the space. If this is an integer type, the :class:`Box` is essentially a discrete space.\n",
      " |          seed: Optionally, you can use this argument to seed the RNG that is used to sample from the space.\n",
      " |      \n",
      " |      Raises:\n",
      " |          ValueError: If no shape information is provided (shape is None, low is None and high is None) then a\n",
      " |              value error is raised.\n",
      " |  \n",
      " |  __repr__(self) -> str\n",
      " |      A string representation of this space.\n",
      " |      \n",
      " |      The representation will include bounds, shape and dtype.\n",
      " |      If a bound is uniform, only the corresponding scalar will be given to avoid redundant and ugly strings.\n",
      " |      \n",
      " |      Returns:\n",
      " |          A representation of the space\n",
      " |  \n",
      " |  __setstate__(self, state: Dict)\n",
      " |      Sets the state of the box for unpickling a box with legacy support.\n",
      " |  \n",
      " |  contains(self, x) -> bool\n",
      " |      Return boolean specifying if x is a valid member of this space.\n",
      " |  \n",
      " |  from_jsonable(self, sample_n: Sequence[Union[float, int]]) -> List[numpy.ndarray]\n",
      " |      Convert a JSONable data type to a batch of samples from this space.\n",
      " |  \n",
      " |  is_bounded(self, manner: str = 'both') -> bool\n",
      " |      Checks whether the box is bounded in some sense.\n",
      " |      \n",
      " |      Args:\n",
      " |          manner (str): One of ``\"both\"``, ``\"below\"``, ``\"above\"``.\n",
      " |      \n",
      " |      Returns:\n",
      " |          If the space is bounded\n",
      " |      \n",
      " |      Raises:\n",
      " |          ValueError: If `manner` is neither ``\"both\"`` nor ``\"below\"`` or ``\"above\"``\n",
      " |  \n",
      " |  sample(self, mask: None = None) -> numpy.ndarray\n",
      " |      Generates a single random sample inside the Box.\n",
      " |      \n",
      " |      In creating a sample of the box, each coordinate is sampled (independently) from a distribution\n",
      " |      that is chosen according to the form of the interval:\n",
      " |      \n",
      " |      * :math:`[a, b]` : uniform distribution\n",
      " |      * :math:`[a, \\infty)` : shifted exponential distribution\n",
      " |      * :math:`(-\\infty, b]` : shifted negative exponential distribution\n",
      " |      * :math:`(-\\infty, \\infty)` : normal distribution\n",
      " |      \n",
      " |      Args:\n",
      " |          mask: A mask for sampling values from the Box space, currently unsupported.\n",
      " |      \n",
      " |      Returns:\n",
      " |          A sampled value from the Box\n",
      " |  \n",
      " |  to_jsonable(self, sample_n)\n",
      " |      Convert a batch of samples from this space to a JSONable data type.\n",
      " |  \n",
      " |  ----------------------------------------------------------------------\n",
      " |  Readonly properties defined here:\n",
      " |  \n",
      " |  is_np_flattenable\n",
      " |      Checks whether this space can be flattened to a :class:`spaces.Box`.\n",
      " |  \n",
      " |  shape\n",
      " |      Has stricter type than gymnasium.Space - never None.\n",
      " |  \n",
      " |  ----------------------------------------------------------------------\n",
      " |  Data and other attributes defined here:\n",
      " |  \n",
      " |  __annotations__ = {}\n",
      " |  \n",
      " |  __hash__ = None\n",
      " |  \n",
      " |  __orig_bases__ = (gymnasium.spaces.space.Space[numpy.ndarray],)\n",
      " |  \n",
      " |  __parameters__ = ()\n",
      " |  \n",
      " |  ----------------------------------------------------------------------\n",
      " |  Methods inherited from gymnasium.spaces.space.Space:\n",
      " |  \n",
      " |  __contains__(self, x) -> bool\n",
      " |      Return boolean specifying if x is a valid member of this space.\n",
      " |  \n",
      " |  seed(self, seed: Optional[int] = None) -> list\n",
      " |      Seed the PRNG of this space and possibly the PRNGs of subspaces.\n",
      " |  \n",
      " |  ----------------------------------------------------------------------\n",
      " |  Readonly properties inherited from gymnasium.spaces.space.Space:\n",
      " |  \n",
      " |  np_random\n",
      " |      Lazily seed the PRNG since this is expensive and only needed if sampling from this space.\n",
      " |  \n",
      " |  ----------------------------------------------------------------------\n",
      " |  Data descriptors inherited from gymnasium.spaces.space.Space:\n",
      " |  \n",
      " |  __dict__\n",
      " |      dictionary for instance variables (if defined)\n",
      " |  \n",
      " |  __weakref__\n",
      " |      list of weak references to the object (if defined)\n",
      " |  \n",
      " |  ----------------------------------------------------------------------\n",
      " |  Class methods inherited from typing.Generic:\n",
      " |  \n",
      " |  __class_getitem__(params) from builtins.type\n",
      " |  \n",
      " |  __init_subclass__(*args, **kwargs) from builtins.type\n",
      " |      This method is called when a class is subclassed.\n",
      " |      \n",
      " |      The default implementation does nothing. It may be\n",
      " |      overridden to extend subclasses.\n",
      "\n"
     ]
    }
   ],
   "source": [
    "help(env.action_space)"
   ]
  },
  {
   "cell_type": "code",
   "execution_count": 8,
   "metadata": {},
   "outputs": [
    {
     "data": {
      "text/plain": [
       "(-inf, inf)"
      ]
     },
     "execution_count": 8,
     "metadata": {},
     "output_type": "execute_result"
    }
   ],
   "source": [
    "env.reward_range"
   ]
  }
 ],
 "metadata": {
  "kernelspec": {
   "display_name": "Python 3.10.8 64-bit",
   "language": "python",
   "name": "python3"
  },
  "language_info": {
   "codemirror_mode": {
    "name": "ipython",
    "version": 3
   },
   "file_extension": ".py",
   "mimetype": "text/x-python",
   "name": "python",
   "nbconvert_exporter": "python",
   "pygments_lexer": "ipython3",
   "version": "3.10.8"
  },
  "orig_nbformat": 4,
  "vscode": {
   "interpreter": {
    "hash": "97cc609b13305c559618ec78a438abc56230b9381f827f22d070313b9a1f3777"
   }
  }
 },
 "nbformat": 4,
 "nbformat_minor": 2
}
