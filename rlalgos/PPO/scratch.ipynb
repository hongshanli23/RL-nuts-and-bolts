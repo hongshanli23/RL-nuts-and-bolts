{
 "cells": [
  {
   "cell_type": "code",
   "execution_count": 2,
   "id": "municipal-three",
   "metadata": {},
   "outputs": [
    {
     "name": "stdout",
     "output_type": "stream",
     "text": [
      "ckpt.pth  local.pkl\n"
     ]
    }
   ],
   "source": [
    "!ls ~/tmp/exception"
   ]
  },
  {
   "cell_type": "code",
   "execution_count": 6,
   "id": "north-moses",
   "metadata": {},
   "outputs": [],
   "source": [
    "from rlkits.policies import PolicyWithValue\n",
    "import torch\n",
    "import gym\n",
    "import pickle\n",
    "\n",
    "env = gym.make('Pendulum-v0')\n",
    "\n",
    "ob_space = env.observation_space\n",
    "ac_space = env.action_space\n",
    "\n",
    "pi = PolicyWithValue(ob_space=ob_space,\n",
    "    ac_space=ac_space, hidden_layers=[1024],\n",
    "    activation=torch.nn.ReLU)\n",
    "\n",
    "pi.load_ckpt('/home/ubuntu/tmp/exception')\n",
    "\n",
    "with open('/home/ubuntu/tmp/exception/local.pkl', 'rb') as f:\n",
    "    lossargs = pickle.load(f)"
   ]
  },
  {
   "cell_type": "code",
   "execution_count": 7,
   "id": "outer-backup",
   "metadata": {},
   "outputs": [
    {
     "data": {
      "text/plain": [
       "dict_keys(['trajectory', 'midx', 'eps'])"
      ]
     },
     "execution_count": 7,
     "metadata": {},
     "output_type": "execute_result"
    }
   ],
   "source": [
    "lossargs.keys()"
   ]
  },
  {
   "cell_type": "code",
   "execution_count": 10,
   "id": "increasing-award",
   "metadata": {},
   "outputs": [
    {
     "name": "stdout",
     "output_type": "stream",
     "text": [
      "tensor([[    nan,     nan,     nan],\n",
      "        [-0.0865, -0.0426,  0.1264],\n",
      "        [ 0.0225,  0.0171,  0.0205],\n",
      "        ...,\n",
      "        [    nan,     nan,     nan],\n",
      "        [    nan,     nan,     nan],\n",
      "        [    nan,     nan,     nan]])\n",
      "tensor([[nan, nan, nan,  ..., nan, nan, nan],\n",
      "        [nan, nan, nan,  ..., nan, nan, nan]])\n"
     ]
    }
   ],
   "source": [
    "for p in pi.policy_net.parameters():\n",
    "    print(p.data)"
   ]
  },
  {
   "cell_type": "code",
   "execution_count": 2,
   "id": "antique-implementation",
   "metadata": {},
   "outputs": [
    {
     "name": "stdout",
     "output_type": "stream",
     "text": [
      "Type of the environment <class 'rlkits.env_batch.ParallelEnvBatch'>\n",
      "obs (3, 2, 3)\n",
      "rews (3, 2)\n",
      "vpreds (3, 2)\n",
      "dones (3, 2)\n",
      "actions (3, 2, 1)\n",
      "log_prob (3, 2, 1)\n"
     ]
    }
   ],
   "source": [
    "from rlkits.policies import PolicyWithValue\n",
    "from rlkits.env_batch import ParallelEnvBatch\n",
    "from rlkits.sampler import ParallelEnvTrajectorySampler\n",
    "from rlkits.sampler import estimate_Q\n",
    "import numpy as np\n",
    "import gym\n",
    "\n",
    "def make_env():\n",
    "    return gym.make('Pendulum-v0')\n",
    "\n",
    "def reward_transform(rew):\n",
    "    return (rew + 8.0) / 16.0\n",
    "\n",
    "env = ParallelEnvBatch(make_env, nenvs=2)\n",
    "\n",
    "#env = make_env()\n",
    "ob_space = env.observation_space\n",
    "ac_space = env.action_space\n",
    "\n",
    "pi = PolicyWithValue(\n",
    "    ob_space=ob_space, ac_space=ac_space, ckpt_dir='/tmp', \n",
    "    hidden_layers=[1024])\n",
    "\n",
    "\n",
    "samp = ParallelEnvTrajectorySampler(env, pi, 3, \n",
    "                                    reward_transform=reward_transform)\n",
    "\n",
    "for attr in ['obs', 'rews', 'vpreds', 'dones', 'actions', 'log_prob']:\n",
    "    print(attr, getattr(samp, attr).shape)\n",
    "traj = samp(callback=estimate_Q)\n",
    "#pp.pprint(traj)"
   ]
  },
  {
   "cell_type": "code",
   "execution_count": 4,
   "id": "robust-binding",
   "metadata": {},
   "outputs": [
    {
     "name": "stdout",
     "output_type": "stream",
     "text": [
      "obs (3, 2, 3)\n",
      "actions (3, 2, 1)\n",
      "log_prob (3, 2, 1)\n",
      "rews (3, 2)\n",
      "vpreds (3, 2)\n",
      "dones (3, 2)\n",
      "Q (3, 2)\n"
     ]
    }
   ],
   "source": [
    "\n",
    "for k, v in traj.items():\n",
    "    if isinstance(v, np.ndarray):\n",
    "        print(k, v.shape)"
   ]
  },
  {
   "cell_type": "code",
   "execution_count": 12,
   "id": "religious-requirement",
   "metadata": {},
   "outputs": [
    {
     "name": "stdout",
     "output_type": "stream",
     "text": [
      "obs (6, 3)\n",
      "actions (6, 1)\n",
      "log_prob (6, 1)\n",
      "rews (6,)\n",
      "vpreds (6,)\n",
      "dones (6,)\n",
      "Q (6,)\n"
     ]
    }
   ],
   "source": [
    "# Nuts and Bolts\n",
    "\n",
    "# aggregate experiences from all envs \n",
    "# each expr from one env can be used for one update\n",
    "# I want to expr from the same env to stick together\n",
    "# This means I need to tranpose the array so that\n",
    "# (nenvs, nsteps, ...)\n",
    "# so that when I reshape (C style) the array to merge the first two axes\n",
    "# the exprs from the same env are contiguous \n",
    "\n",
    "\n",
    "def sf01(arr):\n",
    "    \"\"\"\n",
    "    aggregate experiences from all envs \n",
    "    each expr from one env can be used for one update\n",
    "    I want to expr from the same env to stick together\n",
    "    This means I need to tranpose the array so that\n",
    "    (nenvs, nsteps, ...)\n",
    "    so that when I reshape (C style) the array to merge the first two axes\n",
    "    the exprs from the same env are contiguous     \n",
    "    swap and then flatten axes 0 and 1\n",
    "    \"\"\"\n",
    "    s = arr.shape\n",
    "    return arr.swapaxes(0, 1).reshape(s[0] * s[1], *s[2:])\n",
    "\n",
    "for k, v in traj.items():\n",
    "    if isinstance(v, np.ndarray):\n",
    "        print(k, sf01(v).shape)"
   ]
  },
  {
   "cell_type": "code",
   "execution_count": 5,
   "id": "pleasant-springer",
   "metadata": {},
   "outputs": [],
   "source": [
    "obs = traj['obs']"
   ]
  },
  {
   "cell_type": "code",
   "execution_count": 6,
   "id": "driving-adventure",
   "metadata": {},
   "outputs": [
    {
     "data": {
      "text/plain": [
       "array([[[-0.9999945 ,  0.00330988,  0.8918152 ],\n",
       "        [ 0.5849865 , -0.811043  , -0.05165382]],\n",
       "\n",
       "       [[-0.99921906, -0.03951333,  0.8566701 ],\n",
       "        [ 0.5702964 , -0.82143897, -0.3599361 ]],\n",
       "\n",
       "       [[-0.9974357 , -0.07156818,  0.6421159 ],\n",
       "        [ 0.52808064, -0.8491942 , -1.0105578 ]]], dtype=float32)"
      ]
     },
     "execution_count": 6,
     "metadata": {},
     "output_type": "execute_result"
    }
   ],
   "source": [
    "obs"
   ]
  },
  {
   "cell_type": "code",
   "execution_count": 7,
   "id": "eligible-composite",
   "metadata": {},
   "outputs": [],
   "source": [
    "obs = obs.swapaxes(0, 1)"
   ]
  },
  {
   "cell_type": "code",
   "execution_count": 9,
   "id": "recent-thomson",
   "metadata": {},
   "outputs": [
    {
     "data": {
      "text/plain": [
       "(2, 3, 3)"
      ]
     },
     "execution_count": 9,
     "metadata": {},
     "output_type": "execute_result"
    }
   ],
   "source": [
    "obs.shape"
   ]
  },
  {
   "cell_type": "code",
   "execution_count": 10,
   "id": "familiar-woman",
   "metadata": {
    "collapsed": true,
    "jupyter": {
     "outputs_hidden": true
    }
   },
   "outputs": [
    {
     "name": "stdout",
     "output_type": "stream",
     "text": [
      "Help on function reshape in module numpy:\n",
      "\n",
      "reshape(a, newshape, order='C')\n",
      "    Gives a new shape to an array without changing its data.\n",
      "    \n",
      "    Parameters\n",
      "    ----------\n",
      "    a : array_like\n",
      "        Array to be reshaped.\n",
      "    newshape : int or tuple of ints\n",
      "        The new shape should be compatible with the original shape. If\n",
      "        an integer, then the result will be a 1-D array of that length.\n",
      "        One shape dimension can be -1. In this case, the value is\n",
      "        inferred from the length of the array and remaining dimensions.\n",
      "    order : {'C', 'F', 'A'}, optional\n",
      "        Read the elements of `a` using this index order, and place the\n",
      "        elements into the reshaped array using this index order.  'C'\n",
      "        means to read / write the elements using C-like index order,\n",
      "        with the last axis index changing fastest, back to the first\n",
      "        axis index changing slowest. 'F' means to read / write the\n",
      "        elements using Fortran-like index order, with the first index\n",
      "        changing fastest, and the last index changing slowest. Note that\n",
      "        the 'C' and 'F' options take no account of the memory layout of\n",
      "        the underlying array, and only refer to the order of indexing.\n",
      "        'A' means to read / write the elements in Fortran-like index\n",
      "        order if `a` is Fortran *contiguous* in memory, C-like order\n",
      "        otherwise.\n",
      "    \n",
      "    Returns\n",
      "    -------\n",
      "    reshaped_array : ndarray\n",
      "        This will be a new view object if possible; otherwise, it will\n",
      "        be a copy.  Note there is no guarantee of the *memory layout* (C- or\n",
      "        Fortran- contiguous) of the returned array.\n",
      "    \n",
      "    See Also\n",
      "    --------\n",
      "    ndarray.reshape : Equivalent method.\n",
      "    \n",
      "    Notes\n",
      "    -----\n",
      "    It is not always possible to change the shape of an array without\n",
      "    copying the data. If you want an error to be raised when the data is copied,\n",
      "    you should assign the new shape to the shape attribute of the array::\n",
      "    \n",
      "     >>> a = np.zeros((10, 2))\n",
      "    \n",
      "     # A transpose makes the array non-contiguous\n",
      "     >>> b = a.T\n",
      "    \n",
      "     # Taking a view makes it possible to modify the shape without modifying\n",
      "     # the initial object.\n",
      "     >>> c = b.view()\n",
      "     >>> c.shape = (20)\n",
      "     Traceback (most recent call last):\n",
      "        ...\n",
      "     AttributeError: incompatible shape for a non-contiguous array\n",
      "    \n",
      "    The `order` keyword gives the index ordering both for *fetching* the values\n",
      "    from `a`, and then *placing* the values into the output array.\n",
      "    For example, let's say you have an array:\n",
      "    \n",
      "    >>> a = np.arange(6).reshape((3, 2))\n",
      "    >>> a\n",
      "    array([[0, 1],\n",
      "           [2, 3],\n",
      "           [4, 5]])\n",
      "    \n",
      "    You can think of reshaping as first raveling the array (using the given\n",
      "    index order), then inserting the elements from the raveled array into the\n",
      "    new array using the same kind of index ordering as was used for the\n",
      "    raveling.\n",
      "    \n",
      "    >>> np.reshape(a, (2, 3)) # C-like index ordering\n",
      "    array([[0, 1, 2],\n",
      "           [3, 4, 5]])\n",
      "    >>> np.reshape(np.ravel(a), (2, 3)) # equivalent to C ravel then C reshape\n",
      "    array([[0, 1, 2],\n",
      "           [3, 4, 5]])\n",
      "    >>> np.reshape(a, (2, 3), order='F') # Fortran-like index ordering\n",
      "    array([[0, 4, 3],\n",
      "           [2, 1, 5]])\n",
      "    >>> np.reshape(np.ravel(a, order='F'), (2, 3), order='F')\n",
      "    array([[0, 4, 3],\n",
      "           [2, 1, 5]])\n",
      "    \n",
      "    Examples\n",
      "    --------\n",
      "    >>> a = np.array([[1,2,3], [4,5,6]])\n",
      "    >>> np.reshape(a, 6)\n",
      "    array([1, 2, 3, 4, 5, 6])\n",
      "    >>> np.reshape(a, 6, order='F')\n",
      "    array([1, 4, 2, 5, 3, 6])\n",
      "    \n",
      "    >>> np.reshape(a, (3,-1))       # the unspecified value is inferred to be 2\n",
      "    array([[1, 2],\n",
      "           [3, 4],\n",
      "           [5, 6]])\n",
      "\n"
     ]
    }
   ],
   "source": [
    "help(np.reshape)"
   ]
  },
  {
   "cell_type": "code",
   "execution_count": 5,
   "id": "productive-industry",
   "metadata": {},
   "outputs": [
    {
     "name": "stdout",
     "output_type": "stream",
     "text": [
      "Help on function entropy in module torch.distributions.categorical:\n",
      "\n",
      "entropy(self)\n",
      "    Returns entropy of distribution, batched over batch_shape.\n",
      "    \n",
      "    Returns:\n",
      "        Tensor of shape batch_shape.\n",
      "\n"
     ]
    }
   ],
   "source": [
    "from torch.distributions import Categorical\n",
    "\n",
    "help(Categorical.entropy)"
   ]
  }
 ],
 "metadata": {
  "kernelspec": {
   "display_name": "pytorch_p36",
   "language": "python",
   "name": "pytorch_p36"
  },
  "language_info": {
   "codemirror_mode": {
    "name": "ipython",
    "version": 3
   },
   "file_extension": ".py",
   "mimetype": "text/x-python",
   "name": "python",
   "nbconvert_exporter": "python",
   "pygments_lexer": "ipython3",
   "version": "3.6.10"
  }
 },
 "nbformat": 4,
 "nbformat_minor": 5
}
